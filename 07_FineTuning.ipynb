{
 "cells": [
  {
   "cell_type": "code",
   "execution_count": 6,
   "id": "99811eee",
   "metadata": {},
   "outputs": [],
   "source": [
    "# import needed libraries\n",
    "import pandas as pd\n",
    "import numpy as np\n",
    "from sklearn.model_selection import StratifiedKFold\n",
    "from sklearn.preprocessing import MinMaxScaler\n",
    "import matplotlib.pyplot as plt\n",
    "import seaborn as sns\n",
    "\n",
    "############################################ FEATURE SELECTION ############################################\n",
    "#!pip install scipy\n",
    "import scipy.stats as stats\n",
    "from scipy.stats import chi2_contingency # filter method\n",
    "from sklearn.feature_selection import RFE # wrapper method\n",
    "from sklearn.linear_model import LogisticRegression #(This is one possible model to apply inside RFE)\n",
    "from sklearn.linear_model import LassoCV # embedded method\n",
    "from sklearn.tree import DecisionTreeClassifier # embedded method\n",
    "from sklearn.feature_selection import SequentialFeatureSelector\n",
    "from sklearn.feature_selection import mutual_info_classif as MIC\n",
    "\n",
    "import warnings\n",
    "warnings.filterwarnings('ignore')"
   ]
  },
  {
   "cell_type": "code",
   "execution_count": 47,
   "id": "0cb01fc3",
   "metadata": {
    "id": "0cb01fc3"
   },
   "outputs": [],
   "source": [
    "import pandas as pd\n",
    "import numpy as np\n",
    "import matplotlib.pyplot as plt\n",
    "import seaborn as sns\n",
    "import warnings\n",
    "warnings.filterwarnings('ignore')\n",
    "\n",
    "############################################## PREPROCESSING ##############################################\n",
    "from sklearn.preprocessing import MinMaxScaler\n",
    "\n",
    "################################################# MODELS ##################################################\n",
    "from sklearn.neighbors import KNeighborsClassifier\n",
    "from sklearn.tree import DecisionTreeClassifier\n",
    "from sklearn.neural_network import MLPClassifier\n",
    "from sklearn.ensemble import RandomForestClassifier\n",
    "from sklearn.ensemble import GradientBoostingClassifier\n",
    "from sklearn.svm import SVC\n",
    "from imblearn.over_sampling import SMOTE\n",
    "\n",
    "################################################# METRICS #################################################\n",
    "from sklearn.metrics import f1_score\n",
    "from sklearn.metrics import roc_curve, roc_auc_score\n",
    "from sklearn.metrics import precision_recall_curve\n",
    "from tqdm import tqdm\n",
    "\n",
    "################################### MODEL SELECTION & OPTIMIZATION ########################################\n",
    "from sklearn.model_selection import StratifiedKFold\n",
    "from sklearn.model_selection import train_test_split\n",
    "from sklearn.model_selection import GridSearchCV\n",
    "from sklearn.model_selection import RandomizedSearchCV\n",
    "from sklearn.model_selection import ParameterGrid\n",
    "from sklearn.linear_model import LogisticRegression\n",
    "from sklearn.metrics import ConfusionMatrixDisplay, confusion_matrix\n",
    "\n",
    "######################################### DECISION TREES PLOTS ############################################\n",
    "# in anaconda prompt: conda install python-graphviz\n",
    "#!pip install pydotplus\n",
    "from sklearn.tree import export_graphviz\n",
    "import graphviz\n",
    "import pydotplus"
   ]
  },
  {
   "cell_type": "markdown",
   "id": "f88cc24c",
   "metadata": {},
   "source": [
    "<a class=\"anchor\" id=\"1st-bullet\">\n",
    "\n",
    "# 1. Import data (Data Integration)\n",
    "\n",
    "</a>"
   ]
  },
  {
   "cell_type": "code",
   "execution_count": 8,
   "id": "50188059",
   "metadata": {},
   "outputs": [],
   "source": [
    "df = pd.read_parquet(r'Datasets\\\\parquet\\\\bank_feature_selection.parquet')\n",
    "\n",
    "y = df['y']\n",
    "X_reduced = df.drop(['y'], axis=1).copy()\n",
    "\n",
    "X_train, X_test, y_train, y_test = train_test_split(X_reduced, y, test_size=0.3, stratify=y, random_state=100)\n",
    "smote = SMOTE(random_state=100)\n",
    "X_train_resampled, y_train_resampled = smote.fit_resample(X_train, y_train)"
   ]
  },
  {
   "cell_type": "markdown",
   "id": "2c970812",
   "metadata": {},
   "source": [
    "# Building a predictive model - Part II\n",
    "\n",
    "[4. Model & Assess (Modelling and Assessment)](#17th-bullet)<br>\n",
    "- [4.1. Model Selection](#18th-bullet)<br>\n",
    "    - [4.1.1. Compare different algorithms and select the most promising ones](#19th-bullet)<br>\n",
    "- [4.2. Model Optimization](#20th-bullet)<br>\n",
    "    - [4.2.1. K-Nearest Neighbors](#21st-bullet)<br>\n",
    "    - [4.2.2. Decision Trees](#22nd-bullet)<br>\n",
    "        - [4.2.2.1. How to visualize decision trees](#23rd-bullet)<br>\n",
    "    - [4.2.3. Neural Networks](#24th-bullet)<br>\n",
    "    - [4.2.4. Random Forest](#25th-bullet)<br>\n",
    "    - [4.2.5. Gradient Boosting](#26th-bullet)<br>\n",
    "    - [4.2.6. Support Vector Classification](#27th-bullet)<br>    \n",
    "    - [4.2.7. RandomizedSearchCV](#28th-bullet)<br>\n",
    "        - [4.2.7.1. Neural Networks](#29th-bullet)<br>\n",
    "        - [4.2.7.2. Random Forest](#30th-bullet)<br>\n",
    "        - [4.2.7.3. Gradient Boosting](#31st-bullet)<br>\n",
    "        - [4.2.7.4. Support Vector Classification](#32nd-bullet)<br>\n",
    "    - [4.2.8. GridSearchCV](#33rd-bullet)<br>\n",
    "        - [4.2.8.1. Neural Networks](#34th-bullet)<br>\n",
    "        - [4.2.8.2. Random Forest](#35th-bullet)<br>\n",
    "        - [4.2.8.3. Gradient Boosting](#36th-bullet)<br>\n",
    "        - [4.2.8.4. Support Vector Classification](#37th-bullet)<br>\n",
    "    - [4.2.9. Select the winner model](#38th-bullet)<br>\n",
    "        - [4.2.9.1. Compare the performance](#39th-bullet)<br>\n",
    "        - [4.2.9.2. Plot a ROC Curve](#40th-bullet)<br>\n",
    "        - [4.2.9.3. Change the threshold](#41st-bullet)<br>\n",
    "        \n",
    "[5. Deploy](#42nd-bullet)<br>\n",
    "- [5.1. Import your test data and apply transformations](#43rd-bullet)<br>\n",
    "- [5.2. Obtain Predictions on the test data from your final model](#44th-bullet)<br>\n",
    "- [5.3. Create a Dataframe containing the index of each row and its intended prediction and export it to a csv file](#45th-bullet)<br>"
   ]
  },
  {
   "cell_type": "markdown",
   "id": "2800040f",
   "metadata": {
    "id": "2800040f"
   },
   "source": [
    "<a class=\"anchor\" id=\"17th-bullet\">\n",
    "\n",
    "# 4. Model & Assess (Modelling and Assessment)\n",
    "\n",
    "</a>\n",
    "\n"
   ]
  },
  {
   "cell_type": "markdown",
   "id": "4be5ef49",
   "metadata": {
    "id": "4be5ef49"
   },
   "source": [
    "<div class=\"alert alert-block alert-success\">\n",
    "\n",
    "<a class=\"anchor\" id=\"18th-bullet\">\n",
    "\n",
    "## 4.1. Model Selection\n",
    "    \n",
    "</div></a>\n",
    "\n",
    "In this section you should take the time to train different predictive algorithms with the data that got to this stage and **use the approppriate model assessment metrics to decide which model you think is the best to address your problem**.\n",
    "\n",
    "**You are expected to present on your report the model performances of the different algorithms that you trained and discuss what informed your choice for a specific algorithm**\n",
    "\n",
    "__`Step 22`__ Import all the needed libraries:\n",
    "\n",
    "- MinMaxScaler from sklearn.preprocessing\n",
    "\n",
    "- KNeighborsClassifier from sklearn.neighbors\n",
    "- DecisionTreeClassifier from sklearn.tree\n",
    "- MLPClassifier from sklearn.neural_network\n",
    "- RandomForestClassifier from sklearn.ensemble\n",
    "- GradientBoostingClassifier from sklearn.ensemble\n",
    "- SVC from sklearn.svm\n",
    "<br><br>\n",
    "\n",
    "- f1_score from sklearn.metrics\n",
    "- roc_curve from sklearn.metrics\n",
    "- precision_recall_curve from sklearn.metrics <br><br>\n",
    "\n",
    "- StratifiedKFold from sklearn.model_selection\n",
    "- train_train_split from sklearn.model_selection\n",
    "- GridSearchCV from sklearn.model_selection\n",
    "- RandomizedSearchCV from sklearn.model_selection\n"
   ]
  },
  {
   "cell_type": "code",
   "execution_count": 9,
   "id": "b9987ee3",
   "metadata": {
    "id": "b9987ee3"
   },
   "outputs": [],
   "source": [
    "model_KNN = KNeighborsClassifier()\n",
    "model_DT = DecisionTreeClassifier(max_depth = 3, random_state = 99)\n",
    "model_NN = MLPClassifier(max_iter = 10000, random_state = 99)\n",
    "model_RF = RandomForestClassifier(n_estimators=100, max_depth=3, random_state=99)\n",
    "model_GB = GradientBoostingClassifier()\n",
    "model_SVC = SVC()"
   ]
  },
  {
   "cell_type": "markdown",
   "id": "89421085",
   "metadata": {
    "id": "89421085"
   },
   "source": [
    "<div class=\"alert alert-block alert-success\">\n",
    "\n",
    "<a class=\"anchor\" id=\"20th-bullet\">\n",
    "\n",
    "## 4.2. Model Optimization\n",
    "    \n",
    "</div></a>\n",
    "\n",
    "After selecting the best algorithm (or set of algorithms), you can try to optimize the performance of your models by adjusting the algorithms' hyper-parameters and select the options that result on the best overall performance.\n",
    "\n",
    "Possible ways of doing this can be through:\n",
    "1. Manual optimization\n",
    "2. [GridSearch](https://scikit-learn.org/stable/modules/generated/sklearn.model_selection.GridSearchCV.html)\n",
    "3. [RandomSearch](https://scikit-learn.org/stable/modules/generated/sklearn.model_selection.RandomizedSearchCV.html)\n"
   ]
  },
  {
   "cell_type": "markdown",
   "id": "b6b73e9c",
   "metadata": {
    "id": "b6b73e9c"
   },
   "source": [
    "We are going to compare the f1-score for different algorithms with different hyperparameters in train and validation dataset. We can use a pointplot from seaborn to plot the results. <br>\n",
    "\n",
    "__`Step 29`__ Create a function called `point_plot` that receives as arguments: <br>\n",
    "- The results from the training data (`train`)<br>\n",
    "- The results from the validation data (`validation`)<br>\n",
    "- A list of the different values trained as hyperparameters (`values_try`). <br> <br>\n",
    "    \n",
    "Inside the function, we are going to create two pointplots (`sns.pointplot`):<br>\n",
    "- One where the x axis will be equal to the `values_try`, the y will represent the training results, the `color = teal` and the `label = Train`.<br>\n",
    "- One where the x axis will be equal to the `values_try`, the y will represent the validation results, the `color = goldenrod` and the `label = Validation`.<br>\n",
    "- Call the command plt.legend() to add a legend to the plot.\n",
    "    "
   ]
  },
  {
   "cell_type": "code",
   "execution_count": 10,
   "id": "9dc0a67b",
   "metadata": {
    "id": "9dc0a67b"
   },
   "outputs": [],
   "source": [
    "def point_plot(train, validation, values_try):\n",
    "    sns.pointplot(x=values_try, y=train, color = 'teal', label = 'Train')\n",
    "    sns.pointplot(x=values_try, y=validation, color = 'goldenrod', label = 'Validation')\n",
    "    plt.legend()"
   ]
  },
  {
   "cell_type": "code",
   "execution_count": 11,
   "id": "c4d0b6d9",
   "metadata": {},
   "outputs": [],
   "source": [
    "X_data = X_train_resampled.copy()\n",
    "y_data = y_train_resampled.copy()\n",
    "\n",
    "#X_data = encode_data(X_data)\n",
    "#scaler = MinMaxScaler()\n",
    "#X_data = scaler.fit_transform(X_data)"
   ]
  },
  {
   "cell_type": "markdown",
   "id": "d71030d1",
   "metadata": {
    "id": "d71030d1"
   },
   "source": [
    "<div class=\"alert alert-block alert-info\">\n",
    "    \n",
    "<a class=\"anchor\" id=\"21st-bullet\">\n",
    "\n",
    "### 4.2.1. K-Nearest Neighbor\n",
    "    \n",
    "</a>\n",
    "    \n",
    "<b>class sklearn.neighbors.KNeighborsClassifier</b>(n_neighbors=5, *, weights='uniform', algorithm='auto', p=2, metric='minkowski', metric_params=None, n_jobs=None)\n",
    "</div>"
   ]
  },
  {
   "cell_type": "markdown",
   "id": "80b3af4f",
   "metadata": {
    "id": "80b3af4f"
   },
   "source": [
    "In K-Nearest Neighbor, the hyperparameter `n_neighbors` define the number of neighbors to take into consideration.\n",
    "Having a small value of neighbors in k-nearest neighbors (KNN) algorithm typically leads to overfitting and using a large value of k in KNN tends to result in smoother decision boundaries and can lead to underfitting.\n",
    "\n",
    "__`Step 30`__ Create a function called `get_models_knn` that receives as parameters the data set you want to use and a list of values of different number of neighbors. <br>\n",
    "Inside this function you will:\n",
    "- create an empty dictionary called `models` that will receive several instances of models.\n",
    "- create three empty lists: `results_train`, `results_val` and `names`\n",
    "\n",
    "For each value of neighbors:\n",
    "- Create an instance of a KNeighborsClassifier with `n_neighbors = value`. This will be an element on the dictionary, where the key is the name of the model and the value is the instance itself.\n",
    "\n",
    "For each entry / instance of model you have in your dictionary:\n",
    "- run the function select_best_models and get the average value of the performance for train, validation, and the name of the model."
   ]
  },
  {
   "cell_type": "code",
   "execution_count": 12,
   "id": "30dc6d25",
   "metadata": {
    "id": "30dc6d25"
   },
   "outputs": [],
   "source": [
    "def get_models_knn(data, values):\n",
    "    models = dict()\n",
    "    results_train, results_val = [],[]\n",
    "\n",
    "    # create the instances of each model with different values\n",
    "    for value in values:\n",
    "        models['neighbors_' + str(value)] = KNeighborsClassifier(n_neighbors = value)\n",
    "\n",
    "    for name, model in models.items():\n",
    "        avg_train, std_train, avg_val, std_val = select_best_models(data, model)\n",
    "        results_train.append(avg_train)\n",
    "        results_val.append(avg_val)\n",
    "\n",
    "    print(results_train)\n",
    "    print(results_val)\n",
    "\n",
    "\n",
    "    return results_train, results_val"
   ]
  },
  {
   "cell_type": "markdown",
   "id": "93de10e0",
   "metadata": {
    "id": "93de10e0"
   },
   "source": [
    "__`Step 31`__ In this step:\n",
    "- Define a list of number of neighbors to train, namely [1,3,5,7,9,11].\n",
    "- Call the function previously defined `get_models_knn` passing as arguments your data set and the list of neighbors.\n",
    "- Call the function `point_plot`passing as arguments the results of the training data set, the results of the validation data set and the values of neighbors that you try."
   ]
  },
  {
   "cell_type": "code",
   "execution_count": 42,
   "id": "d64d5a34",
   "metadata": {
    "colab": {
     "base_uri": "https://localhost:8080/",
     "height": 466
    },
    "id": "d64d5a34",
    "outputId": "84586b2c-f275-4259-8bd5-e1741958ec99"
   },
   "outputs": [
    {
     "name": "stdout",
     "output_type": "stream",
     "text": [
      "[np.float64(1.0), np.float64(0.988), np.float64(0.961), np.float64(0.944), np.float64(0.932), np.float64(0.924), np.float64(0.917), np.float64(0.912), np.float64(0.908), np.float64(0.904), np.float64(0.897)]\n",
      "[np.float64(0.946), np.float64(0.93), np.float64(0.929), np.float64(0.919), np.float64(0.911), np.float64(0.906), np.float64(0.901), np.float64(0.897), np.float64(0.894), np.float64(0.891), np.float64(0.886)]\n",
      "CPU times: total: 55min 9s\n",
      "Wall time: 24min 24s\n"
     ]
    },
    {
     "data": {
      "image/png": "[encoded data removed]",
      "text/plain": [
       "<Figure size 640x480 with 1 Axes>"
      ]
     },
     "metadata": {},
     "output_type": "display_data"
    }
   ],
   "source": [
    "%%time\n",
    "values_try = [1,2,3,5,7,9,11,13,15,17,20]\n",
    "results_train, results_val = get_models_knn(keep_data, values_try)\n",
    "point_plot(results_train, results_val, values_try)"
   ]
  },
  {
   "cell_type": "markdown",
   "id": "376c89af",
   "metadata": {
    "id": "376c89af"
   },
   "source": [
    "__CONCLUSION__: <br>\n",
    "It seems that the best value of number of neighbors to keep (considering the f1 score performance in validation) is 5 neighbors."
   ]
  },
  {
   "cell_type": "markdown",
   "id": "9a4308c4",
   "metadata": {
    "id": "9a4308c4"
   },
   "source": [
    "__`Step 32`__ - Create an instance of the model chosen for the algorithm KNN named as `final_model_knn`."
   ]
  },
  {
   "cell_type": "code",
   "execution_count": 32,
   "id": "035d4851",
   "metadata": {
    "id": "035d4851"
   },
   "outputs": [],
   "source": [
    "final_model_knn = KNeighborsClassifier(n_neighbors = 7)"
   ]
  },
  {
   "cell_type": "markdown",
   "id": "644013d7",
   "metadata": {
    "id": "644013d7"
   },
   "source": [
    "__OTHER IMPORTANT HYPERPARAMETERS:__\n",
    "\n",
    "|Parameter| Definition | Options | Default |\n",
    "|---|---|---|---|\n",
    "| weights| Weight function used in prediction. | Uniform, Distance | Uniform |\n",
    "| algorithm | Algorithm used to compute the nearest neighbors. | ball_tree, kd_tree, brute, auto | auto |\n",
    "| metric | Metric to use for distance computation. | Callable | Euclidean Distance |"
   ]
  },
  {
   "cell_type": "markdown",
   "id": "cfa07f51",
   "metadata": {
    "id": "cfa07f51"
   },
   "source": [
    "<div class=\"alert alert-block alert-info\">\n",
    "    \n",
    "<a class=\"anchor\" id=\"22nd-bullet\">\n",
    "\n",
    "### 4.2.2. Decision Trees\n",
    "    \n",
    "</a>\n",
    "    \n",
    "<b>class sklearn.tree.DecisionTreeClassifier</b>(*, criterion='gini', splitter='best', max_depth=None, min_samples_split=2, min_samples_leaf=1, min_weight_fraction_leaf=0.0, max_features=None, random_state=None, max_leaf_nodes=None, min_impurity_decrease=0.0, class_weight=None, ccp_alpha=0.0)\n",
    "</div>"
   ]
  },
  {
   "cell_type": "markdown",
   "id": "98776f25",
   "metadata": {
    "id": "98776f25"
   },
   "source": [
    "In Decision Trees, the hyperparameter `max_depth` defines the number of levels our decision tree is going to have. Usually, a higher value leads to overfitting and a lower value to underfitting.\n",
    "\n",
    "__`Step 33`__ Simillarly to what was done in Step 12, for the function `get_models_knn`, this time create a function to Decision Trees called `get_models_dt`. Instead of applying a KNeighborsClassifier with `n_neighbors = value`, we are going to train different depths of the decision tree with `max_depth = value`."
   ]
  },
  {
   "cell_type": "code",
   "execution_count": null,
   "id": "8f0fe1b9",
   "metadata": {
    "id": "8f0fe1b9"
   },
   "outputs": [],
   "source": [
    "def get_models_dt(data, values):\n",
    "    models = dict()\n",
    "    results_train, results_val = [],[]\n",
    "\n",
    "    # create the instances of each model with different values\n",
    "    for value in values:\n",
    "        models['depth_' + str(value)] = DecisionTreeClassifier(max_depth = value, random_state = 99)\n",
    "\n",
    "    for name, model in models.items():\n",
    "        avg_train, std_train, avg_val, std_val = select_best_models(data, model)\n",
    "        results_train.append(avg_train)\n",
    "        results_val.append(avg_val)\n",
    "    \n",
    "    print(results_train)\n",
    "    print(results_val)\n",
    "\n",
    "    return results_train, results_val"
   ]
  },
  {
   "cell_type": "markdown",
   "id": "7fa6c71a",
   "metadata": {
    "id": "7fa6c71a"
   },
   "source": [
    "__`Step 34`__ In this step:\n",
    "- Define a list of number of maximum depths to train, namely [1,2,3,4,5,6,7,8,9].\n",
    "- Call the function previously defined `get_models_dt` passing as arguments your data set and the list of depths.\n",
    "- Call the function `point_plot`passing as arguments the results of the training data set, the results of the validation data set and the values of depths that you try."
   ]
  },
  {
   "cell_type": "code",
   "execution_count": 45,
   "id": "f15455e0",
   "metadata": {
    "colab": {
     "base_uri": "https://localhost:8080/",
     "height": 430
    },
    "id": "f15455e0",
    "outputId": "474312a2-6cd3-4753-8c6d-203bcbd64137"
   },
   "outputs": [
    {
     "name": "stdout",
     "output_type": "stream",
     "text": [
      "[np.float64(0.847), np.float64(0.861), np.float64(0.87), np.float64(0.879), np.float64(0.885), np.float64(0.896), np.float64(0.907), np.float64(0.918), np.float64(0.929)]\n",
      "[np.float64(0.846), np.float64(0.859), np.float64(0.866), np.float64(0.873), np.float64(0.876), np.float64(0.883), np.float64(0.889), np.float64(0.896), np.float64(0.899)]\n",
      "CPU times: total: 15.4 s\n",
      "Wall time: 23.4 s\n"
     ]
    },
    {
     "data": {
      "image/png": "[encoded data removed]",
      "text/plain": [
       "<Figure size 640x480 with 1 Axes>"
      ]
     },
     "metadata": {},
     "output_type": "display_data"
    }
   ],
   "source": [
    "%%time\n",
    "values_try = [5,6,7,8,9,10,11,12,13]\n",
    "results_train, results_val = get_models_dt(keep_data, values_try)\n",
    "point_plot(results_train, results_val, values_try)"
   ]
  },
  {
   "cell_type": "markdown",
   "id": "8393a370",
   "metadata": {
    "id": "8393a370"
   },
   "source": [
    "__CONCLUSION__: <br>\n",
    "It seems that the best value of levels to keep is 2 levels."
   ]
  },
  {
   "cell_type": "markdown",
   "id": "02dc746a",
   "metadata": {
    "id": "02dc746a"
   },
   "source": [
    "__`Step 35`__ Create an instance of the model chosen for the algorithm DecisionTree named as `final_model_dt`."
   ]
  },
  {
   "cell_type": "code",
   "execution_count": 34,
   "id": "24fecd46",
   "metadata": {
    "id": "24fecd46"
   },
   "outputs": [],
   "source": [
    "final_model_dt = DecisionTreeClassifier(max_depth = 8, random_state = 99)"
   ]
  },
  {
   "cell_type": "markdown",
   "id": "ff3aa013",
   "metadata": {
    "id": "ff3aa013"
   },
   "source": [
    "<a class=\"anchor\" id=\"23rd-bullet\">\n",
    "\n",
    "#### 4.2.2.1. ADDITIONAL: HOW TO VISUALIZE TREES\n",
    "    \n",
    "</a>\n",
    "\n",
    "To visualize a decision tree, you need to create just one single model. For that, we are going to use train_train_split to apply an holdout method."
   ]
  },
  {
   "cell_type": "code",
   "execution_count": 47,
   "id": "f070664c",
   "metadata": {
    "id": "f070664c"
   },
   "outputs": [],
   "source": [
    "#data = keep_data.copy()\n",
    "\n",
    "#X = data.drop(['y'], axis = 1)\n",
    "#y = data['y'].copy()\n",
    "\n",
    "#X= encode_data(X)\n",
    "\n",
    "#X_train, X_val, y_train, y_val = train_test_split(X, y, train_size = 0.2, random_state = 99, stratify = y)\n"
   ]
  },
  {
   "cell_type": "code",
   "execution_count": 48,
   "id": "0c8a6ad9",
   "metadata": {
    "id": "0c8a6ad9"
   },
   "outputs": [],
   "source": [
    "#def plot_tree(model):\n",
    "#    dot_data = export_graphviz(model,\n",
    "#                               feature_names=X_train.columns,\n",
    "#                               filled=True)\n",
    "#    pydot_graph = pydotplus.graph_from_dot_data(dot_data)\n",
    "#    pydot_graph.set_size('\"20,20\"')\n",
    "#    return graphviz.Source(pydot_graph.to_string())"
   ]
  },
  {
   "cell_type": "code",
   "execution_count": 49,
   "id": "210af70f",
   "metadata": {
    "id": "210af70f"
   },
   "outputs": [],
   "source": [
    "#dt_visual = final_model_dt.fit(X_train, y_train)"
   ]
  },
  {
   "cell_type": "code",
   "execution_count": 50,
   "id": "43c6f9a4",
   "metadata": {
    "colab": {
     "base_uri": "https://localhost:8080/",
     "height": 379
    },
    "id": "43c6f9a4",
    "outputId": "2e9b7766-fa8b-423b-ad2b-932492dada2e"
   },
   "outputs": [],
   "source": [
    "#plot_tree(dt_visual)"
   ]
  },
  {
   "cell_type": "markdown",
   "id": "225fff41",
   "metadata": {
    "id": "225fff41"
   },
   "source": [
    "It seems that a DecisionTree with max_depth = 2 (which is the best model we achieve by training different numbers of levels) use only the variable `Mnt` to do the splits. <br>\n",
    "Probably this configuration is not the best to define as the best model from all the algorithms."
   ]
  },
  {
   "cell_type": "markdown",
   "id": "6b99416c",
   "metadata": {
    "id": "6b99416c"
   },
   "source": [
    "__OTHER IMPORTANT HYPERPARAMETERS:__\n",
    "\n",
    "|Parameter| Definition | Options | Default | Approach |\n",
    "|---|---|---|---|---|\n",
    "| criterion| The function to measure the quality of a split. | gini, entropy, log_loss | gini | - |\n",
    "| min_samples_split | The minimum number of samples required to split an internal node. | _int_ or _float_ | 2 | Prepruning technique |\n",
    "| min_samples_leaf | The minimum number of samples required to be at a leaf node.  | _int_ or _float_ | 1 |Prepruning technique |\n",
    "| max_leaf_nodes | The maximum number of leafs the tree can have.   | _int_ | None |Prepruning technique |\n",
    "| min_impurity_decrease | A node will be split if it induces a decrease of the impurity greater than or equal to this value. | _float_ | 0.0 | Prepruning technique |\n",
    "| ccp_alpha | Complexity parameter used for Minimal Cost-Complexity Pruning. | _float_ | 0.0 | Postpruning technique |\n",
    "| splitter | The strategy used to choose the split at each node. If random,  the algorithm selects a random subset of features and finds the best split among them. | _best_ or _random_ | _best_| Overfitting |\n",
    "| max_features | The number of features to consider when looking for the best split. | _int_, _float_, _sqrt_, ... | None | Overfitting |"
   ]
  },
  {
   "cell_type": "markdown",
   "id": "ffd33680",
   "metadata": {
    "id": "3ee6fdfc"
   },
   "source": [
    "<div class=\"alert alert-block alert-info\">\n",
    "    \n",
    "<a class=\"anchor\" id=\"24th-bullet\">\n",
    "\n",
    "### 4.2.3. Neural Networks\n",
    "    \n",
    "</a>\n",
    "\n",
    "    \n",
    "<b>class sklearn.neural_network.MLPClassifier</b>(hidden_layer_sizes=(100,), activation='relu', *, solver='adam', alpha=0.0001, batch_size='auto', learning_rate='constant', learning_rate_init=0.001, power_t=0.5, max_iter=200, shuffle=True, random_state=None, tol=0.0001, verbose=False, warm_start=False, momentum=0.9, nesterovs_momentum=True, early_stopping=False, validation_fraction=0.1, beta_1=0.9, beta_2=0.999, epsilon=1e-08, n_iter_no_change=10, max_fun=15000)\n",
    "</div>\n",
    "\n",
    "In Neural Networks, the hyperparameter `hidden_layer_sizes` define the number hidden layers and hidden neurons in our network. Usually, increasing the number of neurons and layers leads to overfitting while a small value of neurons leads to underfitting.\n",
    "\n",
    "__`Step 36`__ Similarly to what you have done for KNeighborsClassifier and DecisionTreeClassifier, this time we are going to create a function called `get_models_nn` where we are going to change the number of neurons and layers inside a Neural Network, by changing the hyperparameter `hidden_layer_sizes`. Define also `max_iter = 2000` and `random_state = 99`."
   ]
  },
  {
   "cell_type": "code",
   "execution_count": 11,
   "id": "53eb1c83",
   "metadata": {
    "id": "53eb1c83"
   },
   "outputs": [],
   "source": [
    "def get_models_nn(data, values):\n",
    "    models = dict()\n",
    "    results_train, results_val, names = [],[],[]\n",
    "\n",
    "    # create the instances of each model with different values\n",
    "    for value in values:\n",
    "        models[str(value)] = MLPClassifier(hidden_layer_sizes = value, max_iter = 2000, random_state = 99)\n",
    "\n",
    "    for name, model in models.items():\n",
    "        avg_train, std_train, avg_val, std_val = select_best_models(data, model)\n",
    "        results_train.append(avg_train)\n",
    "        results_val.append(avg_val)\n",
    "        names.append(name)\n",
    "\n",
    "    return results_train, results_val, names"
   ]
  },
  {
   "cell_type": "markdown",
   "id": "a8a8603a",
   "metadata": {
    "id": "a8a8603a"
   },
   "source": [
    "__`Step 37`__ In this step:\n",
    "- Define a list of number of number of layers and neurons to train, namely [(10),(100),(150),(200),(300),(350),(400)].\n",
    "- Call the function previously defined `get_models_nn` passing as arguments your data set and the list of hidden layers setups.\n",
    "- Call the function `point_plot`passing as arguments the results of the training data set, the results of the validation data set and the values of the hidden layers setups that you try."
   ]
  },
  {
   "cell_type": "code",
   "execution_count": 52,
   "id": "ONBTWUAr7vzm",
   "metadata": {
    "colab": {
     "base_uri": "https://localhost:8080/",
     "height": 430
    },
    "id": "ONBTWUAr7vzm",
    "outputId": "95a00fb0-955d-449f-ac98-95b936422447"
   },
   "outputs": [
    {
     "name": "stdout",
     "output_type": "stream",
     "text": [
      "CPU times: total: 17min 15s\n",
      "Wall time: 1h 31min 31s\n"
     ]
    },
    {
     "data": {
      "image/png": "[encoded data removed]",
      "text/plain": [
       "<Figure size 640x480 with 1 Axes>"
      ]
     },
     "metadata": {},
     "output_type": "display_data"
    }
   ],
   "source": [
    "%%time\n",
    "values_try = [(10),(100),(150),(200),(300),(400),(500)]\n",
    "results_train, results_val, names = get_models_nn(keep_data, values_try)\n",
    "point_plot(results_train, results_val, names)"
   ]
  },
  {
   "cell_type": "markdown",
   "id": "56caaa82",
   "metadata": {
    "id": "56caaa82"
   },
   "source": [
    "__CONCLUSION__:\n",
    "\n",
    "- A small number of neurons in our Neural Network (one hidden layer with 10 neurons) usually leads to underfitting situations. <br>\n",
    "- Increasing the number of layers or neurons, usually leads to overfitting situations. This is clear on the examples with two layers, namely (100,100) and (150,150).\n",
    "\n",
    "\n",
    "Until this point, our optimization was done manually. But certain algorithms, such as Neural Networks, have a significant quantity of hyperparameters that could influence each other. In those cases, it can be useful to try different combinations of hyperparameters."
   ]
  },
  {
   "cell_type": "markdown",
   "id": "6169f533",
   "metadata": {
    "id": "6169f533"
   },
   "source": [
    "__OTHER IMPORTANT HYPERPARAMETERS:__\n",
    "\n",
    "|Parameter| Definition | Options | Default |\n",
    "|---|---|---|---|\n",
    "| solver| The solver for weight optimization. Lbfgs for small datasets. Adam for bigger datasets, can find a good result fast. In theory, sgd will a better solution but can take several iterations to achieve it. | _lbfgs_, _sgd_, _adam_ | _adam_ |\n",
    "| learning_rate_init | The initial learning rate used. It controls the step-size in updating the weights. | _float_ | 0.001 |\n",
    "| learning_rate | How to decrease the learning rate over iterations. Constant keeps always the same value, invscaling changes the learning rate defined by a function at x steps, adaptive reduces the learning rate when the error is not decreasing. | _constant_, _invscaling_, _adaptive_ | _constant_|\n",
    "| activation | Activation function for the hidden layer. Logistic and tanh usually works better in classification problems. Relu is computationally more efficient.| _identity_, _logistic_, _tanh_, _relu_ | _relu_ |\n",
    "| alpha | Strength of the L2 regularization term. Can be adjusted in overfitting situations.  | _float_ | 0.0001 |\n"
   ]
  },
  {
   "cell_type": "markdown",
   "id": "bc0f227e",
   "metadata": {},
   "source": [
    "<a class=\"anchor\" id=\"29th-bullet\">\n",
    "\n",
    "#### 4.2.7.1. Neural Networks - Random Seacrh\n",
    "    \n",
    "</a>"
   ]
  },
  {
   "cell_type": "code",
   "execution_count": 10,
   "id": "7bb41867",
   "metadata": {},
   "outputs": [],
   "source": [
    "nn = MLPClassifier(max_iter = 10000, random_state = 99)"
   ]
  },
  {
   "cell_type": "code",
   "execution_count": null,
   "id": "c2741b9a",
   "metadata": {},
   "outputs": [],
   "source": [
    "parameter_space_random_nn = {\n",
    "    'hidden_layer_sizes': [(80),(90),(90,50),(100),(100,50),(120)],\n",
    "    'learning_rate_init': [0.001, 0.01, 0.05, 0.1],\n",
    "    'learning_rate': ['constant', 'invscaling','adaptive'],\n",
    "    'solver': ['sgd','adam'],\n",
    "    'activation': ['logistic','relu', 'tanh', 'identity'],\n",
    "    'alpha': [0.001, 0.01, 0.1, 1]\n",
    "}"
   ]
  },
  {
   "cell_type": "code",
   "execution_count": null,
   "id": "e2a9033c",
   "metadata": {},
   "outputs": [],
   "source": [
    "random_search_nn = RandomizedSearchCV(nn, param_distributions=parameter_space_random_nn,\n",
    "                                      scoring = 'f1', cv=5, random_state=42, verbose=3)"
   ]
  },
  {
   "cell_type": "code",
   "execution_count": 15,
   "id": "e9843be2",
   "metadata": {},
   "outputs": [
    {
     "name": "stdout",
     "output_type": "stream",
     "text": [
      "Best Hyperparameters:  {'solver': 'adam', 'learning_rate_init': 0.001, 'learning_rate': 'adaptive', 'hidden_layer_sizes': (90, 50), 'alpha': 1, 'activation': 'logistic'}\n",
      "Best Score:  0.7838901646091494\n",
      "CPU times: total: 37min 8s\n",
      "Wall time: 1h 26min 17s\n"
     ]
    }
   ],
   "source": [
    "%%time\n",
    "random_search_nn.fit(X_data, y_data)\n",
    "\n",
    "# Print the best hyperparameters and corresponding score\n",
    "print(\"Best Hyperparameters: \", random_search_nn.best_params_)\n",
    "print(\"Best Score: \", random_search_nn.best_score_)"
   ]
  },
  {
   "cell_type": "markdown",
   "id": "ffa3ba2c",
   "metadata": {},
   "source": [
    "<a class=\"anchor\" id=\"34th-bullet\">\n",
    "\n",
    "#### 4.2.8.1. Neural Networks - Grid Search\n",
    "    \n",
    "</a>"
   ]
  },
  {
   "cell_type": "code",
   "execution_count": 11,
   "id": "859fe4ad",
   "metadata": {},
   "outputs": [],
   "source": [
    "parameter_space_grid_nn = {\n",
    "    'solver': ['adam'],\n",
    "    'learning_rate_init': [0.001, 0.01],\n",
    "    'learning_rate': ['adaptive'],\n",
    "    'hidden_layer_sizes': [(80,), (100,)],\n",
    "    'alpha': [1],\n",
    "    'activation': ['logistic', 'relu']\n",
    "}"
   ]
  },
  {
   "cell_type": "code",
   "execution_count": 12,
   "id": "abd89ac7",
   "metadata": {},
   "outputs": [],
   "source": [
    "grid_search_nn = GridSearchCV(nn, parameter_space_grid_nn, scoring = 'f1', return_train_score = True, cv = 5, verbose=3)"
   ]
  },
  {
   "cell_type": "code",
   "execution_count": 13,
   "id": "0a9da8bc",
   "metadata": {},
   "outputs": [
    {
     "name": "stdout",
     "output_type": "stream",
     "text": [
      "Fitting 5 folds for each of 8 candidates, totalling 40 fits\n",
      "[CV 1/5] END activation=logistic, alpha=1, hidden_layer_sizes=(80,), learning_rate=adaptive, learning_rate_init=0.001, solver=adam;, score=(train=0.832, test=0.851) total time=  32.2s\n",
      "[CV 2/5] END activation=logistic, alpha=1, hidden_layer_sizes=(80,), learning_rate=adaptive, learning_rate_init=0.001, solver=adam;, score=(train=0.841, test=0.835) total time=  30.0s\n",
      "[CV 3/5] END activation=logistic, alpha=1, hidden_layer_sizes=(80,), learning_rate=adaptive, learning_rate_init=0.001, solver=adam;, score=(train=0.846, test=0.742) total time=  28.3s\n",
      "[CV 4/5] END activation=logistic, alpha=1, hidden_layer_sizes=(80,), learning_rate=adaptive, learning_rate_init=0.001, solver=adam;, score=(train=0.872, test=0.725) total time=  38.7s\n",
      "[CV 5/5] END activation=logistic, alpha=1, hidden_layer_sizes=(80,), learning_rate=adaptive, learning_rate_init=0.001, solver=adam;, score=(train=0.867, test=0.768) total time=  36.8s\n",
      "[CV 1/5] END activation=logistic, alpha=1, hidden_layer_sizes=(80,), learning_rate=adaptive, learning_rate_init=0.01, solver=adam;, score=(train=0.840, test=0.868) total time=  14.3s\n",
      "[CV 2/5] END activation=logistic, alpha=1, hidden_layer_sizes=(80,), learning_rate=adaptive, learning_rate_init=0.01, solver=adam;, score=(train=0.846, test=0.830) total time=  14.5s\n",
      "[CV 3/5] END activation=logistic, alpha=1, hidden_layer_sizes=(80,), learning_rate=adaptive, learning_rate_init=0.01, solver=adam;, score=(train=0.848, test=0.744) total time=  16.1s\n",
      "[CV 4/5] END activation=logistic, alpha=1, hidden_layer_sizes=(80,), learning_rate=adaptive, learning_rate_init=0.01, solver=adam;, score=(train=0.875, test=0.721) total time=  17.4s\n",
      "[CV 5/5] END activation=logistic, alpha=1, hidden_layer_sizes=(80,), learning_rate=adaptive, learning_rate_init=0.01, solver=adam;, score=(train=0.865, test=0.768) total time=  10.1s\n",
      "[CV 1/5] END activation=logistic, alpha=1, hidden_layer_sizes=(100,), learning_rate=adaptive, learning_rate_init=0.001, solver=adam;, score=(train=0.828, test=0.845) total time=  35.2s\n",
      "[CV 2/5] END activation=logistic, alpha=1, hidden_layer_sizes=(100,), learning_rate=adaptive, learning_rate_init=0.001, solver=adam;, score=(train=0.835, test=0.827) total time=  42.8s\n",
      "[CV 3/5] END activation=logistic, alpha=1, hidden_layer_sizes=(100,), learning_rate=adaptive, learning_rate_init=0.001, solver=adam;, score=(train=0.842, test=0.760) total time=  42.7s\n",
      "[CV 4/5] END activation=logistic, alpha=1, hidden_layer_sizes=(100,), learning_rate=adaptive, learning_rate_init=0.001, solver=adam;, score=(train=0.872, test=0.725) total time=  38.3s\n",
      "[CV 5/5] END activation=logistic, alpha=1, hidden_layer_sizes=(100,), learning_rate=adaptive, learning_rate_init=0.001, solver=adam;, score=(train=0.869, test=0.765) total time=  45.2s\n",
      "[CV 1/5] END activation=logistic, alpha=1, hidden_layer_sizes=(100,), learning_rate=adaptive, learning_rate_init=0.01, solver=adam;, score=(train=0.830, test=0.845) total time=  16.2s\n",
      "[CV 2/5] END activation=logistic, alpha=1, hidden_layer_sizes=(100,), learning_rate=adaptive, learning_rate_init=0.01, solver=adam;, score=(train=0.846, test=0.837) total time=  16.3s\n",
      "[CV 3/5] END activation=logistic, alpha=1, hidden_layer_sizes=(100,), learning_rate=adaptive, learning_rate_init=0.01, solver=adam;, score=(train=0.846, test=0.758) total time=  16.2s\n",
      "[CV 4/5] END activation=logistic, alpha=1, hidden_layer_sizes=(100,), learning_rate=adaptive, learning_rate_init=0.01, solver=adam;, score=(train=0.876, test=0.719) total time=  19.3s\n",
      "[CV 5/5] END activation=logistic, alpha=1, hidden_layer_sizes=(100,), learning_rate=adaptive, learning_rate_init=0.01, solver=adam;, score=(train=0.863, test=0.765) total time=  13.5s\n",
      "[CV 1/5] END activation=relu, alpha=1, hidden_layer_sizes=(80,), learning_rate=adaptive, learning_rate_init=0.001, solver=adam;, score=(train=0.875, test=0.846) total time=  16.8s\n",
      "[CV 2/5] END activation=relu, alpha=1, hidden_layer_sizes=(80,), learning_rate=adaptive, learning_rate_init=0.001, solver=adam;, score=(train=0.875, test=0.820) total time=   8.8s\n",
      "[CV 3/5] END activation=relu, alpha=1, hidden_layer_sizes=(80,), learning_rate=adaptive, learning_rate_init=0.001, solver=adam;, score=(train=0.877, test=0.803) total time=  14.1s\n",
      "[CV 4/5] END activation=relu, alpha=1, hidden_layer_sizes=(80,), learning_rate=adaptive, learning_rate_init=0.001, solver=adam;, score=(train=0.894, test=0.729) total time=   9.6s\n",
      "[CV 5/5] END activation=relu, alpha=1, hidden_layer_sizes=(80,), learning_rate=adaptive, learning_rate_init=0.001, solver=adam;, score=(train=0.897, test=0.722) total time=  11.3s\n",
      "[CV 1/5] END activation=relu, alpha=1, hidden_layer_sizes=(80,), learning_rate=adaptive, learning_rate_init=0.01, solver=adam;, score=(train=0.869, test=0.856) total time=   6.4s\n",
      "[CV 2/5] END activation=relu, alpha=1, hidden_layer_sizes=(80,), learning_rate=adaptive, learning_rate_init=0.01, solver=adam;, score=(train=0.874, test=0.818) total time=   7.1s\n",
      "[CV 3/5] END activation=relu, alpha=1, hidden_layer_sizes=(80,), learning_rate=adaptive, learning_rate_init=0.01, solver=adam;, score=(train=0.872, test=0.792) total time=   6.6s\n",
      "[CV 4/5] END activation=relu, alpha=1, hidden_layer_sizes=(80,), learning_rate=adaptive, learning_rate_init=0.01, solver=adam;, score=(train=0.890, test=0.719) total time=   7.1s\n",
      "[CV 5/5] END activation=relu, alpha=1, hidden_layer_sizes=(80,), learning_rate=adaptive, learning_rate_init=0.01, solver=adam;, score=(train=0.893, test=0.708) total time=   7.4s\n",
      "[CV 1/5] END activation=relu, alpha=1, hidden_layer_sizes=(100,), learning_rate=adaptive, learning_rate_init=0.001, solver=adam;, score=(train=0.875, test=0.845) total time=  12.3s\n",
      "[CV 2/5] END activation=relu, alpha=1, hidden_layer_sizes=(100,), learning_rate=adaptive, learning_rate_init=0.001, solver=adam;, score=(train=0.875, test=0.819) total time=  12.9s\n",
      "[CV 3/5] END activation=relu, alpha=1, hidden_layer_sizes=(100,), learning_rate=adaptive, learning_rate_init=0.001, solver=adam;, score=(train=0.876, test=0.783) total time=  15.4s\n",
      "[CV 4/5] END activation=relu, alpha=1, hidden_layer_sizes=(100,), learning_rate=adaptive, learning_rate_init=0.001, solver=adam;, score=(train=0.893, test=0.731) total time=  12.5s\n",
      "[CV 5/5] END activation=relu, alpha=1, hidden_layer_sizes=(100,), learning_rate=adaptive, learning_rate_init=0.001, solver=adam;, score=(train=0.896, test=0.724) total time=  11.1s\n",
      "[CV 1/5] END activation=relu, alpha=1, hidden_layer_sizes=(100,), learning_rate=adaptive, learning_rate_init=0.01, solver=adam;, score=(train=0.868, test=0.844) total time=   6.8s\n",
      "[CV 2/5] END activation=relu, alpha=1, hidden_layer_sizes=(100,), learning_rate=adaptive, learning_rate_init=0.01, solver=adam;, score=(train=0.870, test=0.808) total time=   6.0s\n",
      "[CV 3/5] END activation=relu, alpha=1, hidden_layer_sizes=(100,), learning_rate=adaptive, learning_rate_init=0.01, solver=adam;, score=(train=0.871, test=0.794) total time=   6.1s\n",
      "[CV 4/5] END activation=relu, alpha=1, hidden_layer_sizes=(100,), learning_rate=adaptive, learning_rate_init=0.01, solver=adam;, score=(train=0.886, test=0.729) total time=   7.8s\n",
      "[CV 5/5] END activation=relu, alpha=1, hidden_layer_sizes=(100,), learning_rate=adaptive, learning_rate_init=0.01, solver=adam;, score=(train=0.893, test=0.722) total time=   8.6s\n",
      "Best Hyperparameters:  {'activation': 'logistic', 'alpha': 1, 'hidden_layer_sizes': (80,), 'learning_rate': 'adaptive', 'learning_rate_init': 0.01, 'solver': 'adam'}\n",
      "Best Score:  0.7858424016565301\n",
      "CPU times: total: 11min 46s\n",
      "Wall time: 12min 25s\n"
     ]
    }
   ],
   "source": [
    "%%time\n",
    "grid_search_nn.fit(X_data, y_data)\n",
    "\n",
    "# Print the best hyperparameters and corresponding score\n",
    "print(\"Best Hyperparameters: \", grid_search_nn.best_params_)\n",
    "print(\"Best Score: \", grid_search_nn.best_score_)"
   ]
  },
  {
   "cell_type": "code",
   "execution_count": 36,
   "id": "4c5ae63b",
   "metadata": {},
   "outputs": [],
   "source": [
    "final_model_nn = MLPClassifier(activation = 'logistic',\n",
    "                               hidden_layer_sizes = (80,),\n",
    "                               learning_rate = 'adaptive',\n",
    "                               learning_rate_init = 0.01,\n",
    "                               solver = 'adam',\n",
    "                               alpha = 1,\n",
    "                               max_iter = 10000, random_state = 99)"
   ]
  },
  {
   "cell_type": "markdown",
   "id": "3ee6fdfc",
   "metadata": {
    "id": "3ee6fdfc"
   },
   "source": [
    "<div class=\"alert alert-block alert-info\">\n",
    "    \n",
    "<a class=\"anchor\" id=\"25th-bullet\">\n",
    "\n",
    "### 4.2.4. Random Forest\n",
    "    \n",
    "</a>\n",
    "\n",
    "    \n",
    "<b>class sklearn.ensemble.RandomForestClassifier</b>(n_estimators=100, *, criterion='gini', max_depth=None, min_samples_split=2, min_samples_leaf=1, min_weight_fraction_leaf=0.0, max_features='sqrt', max_leaf_nodes=None, min_impurity_decrease=0.0, bootstrap=True, oob_score=False, n_jobs=None, random_state=None, verbose=0, warm_start=False, class_weight=None, ccp_alpha=0.0, max_samples=None, monotonic_cst=None)[source]\n",
    "</div>\n",
    "\n",
    "In Random Forest, the hyperparameter `n_estimators` define the number estimators which sets the number of trees in the forest.\n",
    "\n",
    "__`Step 38`__ Similarly to what you have done for the previous models, this time we are going to create a function called `get_models_rf_n_estimators` where we are going to change the number of estimators, by changing the hyperparameter `n_estimators`. Define also `max_depth = 3` and `random_state = 99`."
   ]
  },
  {
   "cell_type": "code",
   "execution_count": 13,
   "id": "bc89d92c",
   "metadata": {},
   "outputs": [],
   "source": [
    "def get_models_rf_n_estimators(data, values):\n",
    "    models = dict()\n",
    "    results_train, results_val, names = [],[],[]\n",
    "\n",
    "    # create the instances of each model with different values\n",
    "    for value in values:\n",
    "        models[str(value)] = RandomForestClassifier(n_estimators=value, max_depth=3, random_state=99)\n",
    "\n",
    "    for name, model in models.items():\n",
    "        avg_train, std_train, avg_val, std_val = select_best_models(data, model)\n",
    "        results_train.append(avg_train)\n",
    "        results_val.append(avg_val)\n",
    "        names.append(name)\n",
    "\n",
    "    print(results_train)\n",
    "    print(results_val)\n",
    "\n",
    "    return results_train, results_val, names"
   ]
  },
  {
   "cell_type": "code",
   "execution_count": 54,
   "id": "27b47585",
   "metadata": {},
   "outputs": [
    {
     "name": "stdout",
     "output_type": "stream",
     "text": [
      "[np.float64(0.847), np.float64(0.861), np.float64(0.858), np.float64(0.853), np.float64(0.85), np.float64(0.851), np.float64(0.854), np.float64(0.853)]\n",
      "[np.float64(0.846), np.float64(0.861), np.float64(0.858), np.float64(0.852), np.float64(0.849), np.float64(0.85), np.float64(0.853), np.float64(0.853)]\n",
      "CPU times: total: 3min 21s\n",
      "Wall time: 3min 38s\n"
     ]
    },
    {
     "data": {
      "image/png": "[encoded data removed]",
      "text/plain": [
       "<Figure size 640x480 with 1 Axes>"
      ]
     },
     "metadata": {},
     "output_type": "display_data"
    }
   ],
   "source": [
    "%%time\n",
    "values_try = list(range(10,400,50))\n",
    "\n",
    "results_train, results_val, names = get_models_rf_n_estimators(keep_data, values_try)\n",
    "point_plot(results_train, results_val, names)"
   ]
  },
  {
   "cell_type": "markdown",
   "id": "d8031c57",
   "metadata": {},
   "source": [
    "<a class=\"anchor\" id=\"30th-bullet\">\n",
    "\n",
    "#### 4.2.7.2. Random Forest - Random Search\n",
    "    \n",
    "</a>"
   ]
  },
  {
   "cell_type": "code",
   "execution_count": 14,
   "id": "f99ea2a4",
   "metadata": {},
   "outputs": [],
   "source": [
    "rf = RandomForestClassifier(n_estimators=60, max_depth=3, random_state=99)"
   ]
  },
  {
   "cell_type": "code",
   "execution_count": 15,
   "id": "78eb7564",
   "metadata": {},
   "outputs": [],
   "source": [
    "parameter_space_random_rf = {\n",
    "    'n_estimators':[40,50,60,70,80],\n",
    "    'min_samples_split': list(range(2, 20)),\n",
    "    'min_samples_leaf': list(range(1, 20)),\n",
    "    'max_features': ['auto', 'sqrt', 'log2'],\n",
    "    'bootstrap': [True, False]\n",
    "}"
   ]
  },
  {
   "cell_type": "code",
   "execution_count": 17,
   "id": "027d3841",
   "metadata": {},
   "outputs": [],
   "source": [
    "random_search_rf = RandomizedSearchCV(rf, param_distributions=parameter_space_random_rf,\n",
    "                                   scoring = 'f1', cv=5, random_state=42, verbose=3)"
   ]
  },
  {
   "cell_type": "code",
   "execution_count": 18,
   "id": "3dc379cd",
   "metadata": {},
   "outputs": [
    {
     "name": "stdout",
     "output_type": "stream",
     "text": [
      "Fitting 5 folds for each of 10 candidates, totalling 50 fits\n",
      "[CV 1/5] END bootstrap=False, max_features=sqrt, min_samples_leaf=5, min_samples_split=16, n_estimators=40;, score=0.850 total time=   0.9s\n",
      "[CV 2/5] END bootstrap=False, max_features=sqrt, min_samples_leaf=5, min_samples_split=16, n_estimators=40;, score=0.851 total time=   0.8s\n",
      "[CV 3/5] END bootstrap=False, max_features=sqrt, min_samples_leaf=5, min_samples_split=16, n_estimators=40;, score=0.844 total time=   0.8s\n",
      "[CV 4/5] END bootstrap=False, max_features=sqrt, min_samples_leaf=5, min_samples_split=16, n_estimators=40;, score=0.849 total time=   0.7s\n",
      "[CV 5/5] END bootstrap=False, max_features=sqrt, min_samples_leaf=5, min_samples_split=16, n_estimators=40;, score=0.849 total time=   0.7s\n",
      "[CV 1/5] END bootstrap=True, max_features=auto, min_samples_leaf=10, min_samples_split=12, n_estimators=40;, score=nan total time=   0.0s\n",
      "[CV 2/5] END bootstrap=True, max_features=auto, min_samples_leaf=10, min_samples_split=12, n_estimators=40;, score=nan total time=   0.0s\n",
      "[CV 3/5] END bootstrap=True, max_features=auto, min_samples_leaf=10, min_samples_split=12, n_estimators=40;, score=nan total time=   0.0s\n",
      "[CV 4/5] END bootstrap=True, max_features=auto, min_samples_leaf=10, min_samples_split=12, n_estimators=40;, score=nan total time=   0.0s\n",
      "[CV 5/5] END bootstrap=True, max_features=auto, min_samples_leaf=10, min_samples_split=12, n_estimators=40;, score=nan total time=   0.0s\n",
      "[CV 1/5] END bootstrap=False, max_features=auto, min_samples_leaf=3, min_samples_split=18, n_estimators=40;, score=nan total time=   0.0s\n",
      "[CV 2/5] END bootstrap=False, max_features=auto, min_samples_leaf=3, min_samples_split=18, n_estimators=40;, score=nan total time=   0.0s\n",
      "[CV 3/5] END bootstrap=False, max_features=auto, min_samples_leaf=3, min_samples_split=18, n_estimators=40;, score=nan total time=   0.0s\n",
      "[CV 4/5] END bootstrap=False, max_features=auto, min_samples_leaf=3, min_samples_split=18, n_estimators=40;, score=nan total time=   0.0s\n",
      "[CV 5/5] END bootstrap=False, max_features=auto, min_samples_leaf=3, min_samples_split=18, n_estimators=40;, score=nan total time=   0.0s\n",
      "[CV 1/5] END bootstrap=False, max_features=auto, min_samples_leaf=1, min_samples_split=14, n_estimators=50;, score=nan total time=   0.0s\n",
      "[CV 2/5] END bootstrap=False, max_features=auto, min_samples_leaf=1, min_samples_split=14, n_estimators=50;, score=nan total time=   0.0s\n",
      "[CV 3/5] END bootstrap=False, max_features=auto, min_samples_leaf=1, min_samples_split=14, n_estimators=50;, score=nan total time=   0.0s\n",
      "[CV 4/5] END bootstrap=False, max_features=auto, min_samples_leaf=1, min_samples_split=14, n_estimators=50;, score=nan total time=   0.0s\n",
      "[CV 5/5] END bootstrap=False, max_features=auto, min_samples_leaf=1, min_samples_split=14, n_estimators=50;, score=nan total time=   0.0s\n",
      "[CV 1/5] END bootstrap=False, max_features=auto, min_samples_leaf=7, min_samples_split=14, n_estimators=80;, score=nan total time=   0.0s\n",
      "[CV 2/5] END bootstrap=False, max_features=auto, min_samples_leaf=7, min_samples_split=14, n_estimators=80;, score=nan total time=   0.0s\n",
      "[CV 3/5] END bootstrap=False, max_features=auto, min_samples_leaf=7, min_samples_split=14, n_estimators=80;, score=nan total time=   0.0s\n",
      "[CV 4/5] END bootstrap=False, max_features=auto, min_samples_leaf=7, min_samples_split=14, n_estimators=80;, score=nan total time=   0.0s\n",
      "[CV 5/5] END bootstrap=False, max_features=auto, min_samples_leaf=7, min_samples_split=14, n_estimators=80;, score=nan total time=   0.0s\n",
      "[CV 1/5] END bootstrap=False, max_features=auto, min_samples_leaf=13, min_samples_split=13, n_estimators=40;, score=nan total time=   0.0s\n",
      "[CV 2/5] END bootstrap=False, max_features=auto, min_samples_leaf=13, min_samples_split=13, n_estimators=40;, score=nan total time=   0.0s\n",
      "[CV 3/5] END bootstrap=False, max_features=auto, min_samples_leaf=13, min_samples_split=13, n_estimators=40;, score=nan total time=   0.0s\n",
      "[CV 4/5] END bootstrap=False, max_features=auto, min_samples_leaf=13, min_samples_split=13, n_estimators=40;, score=nan total time=   0.0s\n",
      "[CV 5/5] END bootstrap=False, max_features=auto, min_samples_leaf=13, min_samples_split=13, n_estimators=40;, score=nan total time=   0.0s\n",
      "[CV 1/5] END bootstrap=True, max_features=auto, min_samples_leaf=6, min_samples_split=5, n_estimators=50;, score=nan total time=   0.0s\n",
      "[CV 2/5] END bootstrap=True, max_features=auto, min_samples_leaf=6, min_samples_split=5, n_estimators=50;, score=nan total time=   0.0s\n",
      "[CV 3/5] END bootstrap=True, max_features=auto, min_samples_leaf=6, min_samples_split=5, n_estimators=50;, score=nan total time=   0.0s\n",
      "[CV 4/5] END bootstrap=True, max_features=auto, min_samples_leaf=6, min_samples_split=5, n_estimators=50;, score=nan total time=   0.0s\n",
      "[CV 5/5] END bootstrap=True, max_features=auto, min_samples_leaf=6, min_samples_split=5, n_estimators=50;, score=nan total time=   0.0s\n",
      "[CV 1/5] END bootstrap=True, max_features=log2, min_samples_leaf=12, min_samples_split=5, n_estimators=50;, score=0.847 total time=   0.7s\n",
      "[CV 2/5] END bootstrap=True, max_features=log2, min_samples_leaf=12, min_samples_split=5, n_estimators=50;, score=0.850 total time=   0.8s\n",
      "[CV 3/5] END bootstrap=True, max_features=log2, min_samples_leaf=12, min_samples_split=5, n_estimators=50;, score=0.844 total time=   0.8s\n",
      "[CV 4/5] END bootstrap=True, max_features=log2, min_samples_leaf=12, min_samples_split=5, n_estimators=50;, score=0.849 total time=   0.8s\n",
      "[CV 5/5] END bootstrap=True, max_features=log2, min_samples_leaf=12, min_samples_split=5, n_estimators=50;, score=0.852 total time=   0.8s\n",
      "[CV 1/5] END bootstrap=False, max_features=auto, min_samples_leaf=5, min_samples_split=19, n_estimators=70;, score=nan total time=   0.0s\n",
      "[CV 2/5] END bootstrap=False, max_features=auto, min_samples_leaf=5, min_samples_split=19, n_estimators=70;, score=nan total time=   0.0s\n",
      "[CV 3/5] END bootstrap=False, max_features=auto, min_samples_leaf=5, min_samples_split=19, n_estimators=70;, score=nan total time=   0.0s\n",
      "[CV 4/5] END bootstrap=False, max_features=auto, min_samples_leaf=5, min_samples_split=19, n_estimators=70;, score=nan total time=   0.0s\n",
      "[CV 5/5] END bootstrap=False, max_features=auto, min_samples_leaf=5, min_samples_split=19, n_estimators=70;, score=nan total time=   0.0s\n",
      "[CV 1/5] END bootstrap=False, max_features=sqrt, min_samples_leaf=17, min_samples_split=10, n_estimators=60;, score=0.845 total time=   1.4s\n",
      "[CV 2/5] END bootstrap=False, max_features=sqrt, min_samples_leaf=17, min_samples_split=10, n_estimators=60;, score=0.844 total time=   1.1s\n",
      "[CV 3/5] END bootstrap=False, max_features=sqrt, min_samples_leaf=17, min_samples_split=10, n_estimators=60;, score=0.841 total time=   1.1s\n",
      "[CV 4/5] END bootstrap=False, max_features=sqrt, min_samples_leaf=17, min_samples_split=10, n_estimators=60;, score=0.846 total time=   1.1s\n",
      "[CV 5/5] END bootstrap=False, max_features=sqrt, min_samples_leaf=17, min_samples_split=10, n_estimators=60;, score=0.846 total time=   1.1s\n",
      "Best Hyperparameters:  {'n_estimators': 40, 'min_samples_split': 16, 'min_samples_leaf': 5, 'max_features': 'sqrt', 'bootstrap': False}\n",
      "Best Score:  0.8485098259080062\n",
      "CPU times: total: 10.5 s\n",
      "Wall time: 16.9 s\n"
     ]
    }
   ],
   "source": [
    "%%time\n",
    "random_search_rf.fit(X_data, y_data)\n",
    "\n",
    "# Print the best hyperparameters and corresponding score\n",
    "print(\"Best Hyperparameters: \", random_search_rf.best_params_)\n",
    "print(\"Best Score: \", random_search_rf.best_score_)"
   ]
  },
  {
   "cell_type": "markdown",
   "id": "3274f40e",
   "metadata": {},
   "source": [
    "<a class=\"anchor\" id=\"35th-bullet\">\n",
    "\n",
    "#### 4.2.8.2. Random Forest - Grid Search\n",
    "    \n",
    "</a>"
   ]
  },
  {
   "cell_type": "code",
   "execution_count": 19,
   "id": "d54b38b4",
   "metadata": {},
   "outputs": [],
   "source": [
    "parameter_space_grid_rf = {'n_estimators': [20,30 ,40,50,60,70,80],\n",
    "                            'min_samples_split': [12,14,16,18,20],\n",
    "                            'min_samples_leaf': [5],\n",
    "                            'max_features': ['log2','sqrt'],\n",
    "                            'bootstrap': [False]}"
   ]
  },
  {
   "cell_type": "code",
   "execution_count": 20,
   "id": "2588ce7d",
   "metadata": {},
   "outputs": [],
   "source": [
    "grid_search_rf = GridSearchCV(rf, parameter_space_grid_rf, scoring = 'f1', return_train_score = True, cv = 5, verbose=3)"
   ]
  },
  {
   "cell_type": "code",
   "execution_count": 21,
   "id": "a938f51e",
   "metadata": {},
   "outputs": [
    {
     "name": "stdout",
     "output_type": "stream",
     "text": [
      "Fitting 5 folds for each of 70 candidates, totalling 350 fits\n",
      "[CV 1/5] END bootstrap=False, max_features=log2, min_samples_leaf=5, min_samples_split=12, n_estimators=20;, score=(train=0.839, test=0.837) total time=   0.3s\n",
      "[CV 2/5] END bootstrap=False, max_features=log2, min_samples_leaf=5, min_samples_split=12, n_estimators=20;, score=(train=0.836, test=0.839) total time=   0.4s\n",
      "[CV 3/5] END bootstrap=False, max_features=log2, min_samples_leaf=5, min_samples_split=12, n_estimators=20;, score=(train=0.829, test=0.823) total time=   0.3s\n",
      "[CV 4/5] END bootstrap=False, max_features=log2, min_samples_leaf=5, min_samples_split=12, n_estimators=20;, score=(train=0.832, test=0.828) total time=   0.3s\n",
      "[CV 5/5] END bootstrap=False, max_features=log2, min_samples_leaf=5, min_samples_split=12, n_estimators=20;, score=(train=0.829, test=0.834) total time=   0.3s\n",
      "[CV 1/5] END bootstrap=False, max_features=log2, min_samples_leaf=5, min_samples_split=12, n_estimators=30;, score=(train=0.854, test=0.851) total time=   0.6s\n",
      "[CV 2/5] END bootstrap=False, max_features=log2, min_samples_leaf=5, min_samples_split=12, n_estimators=30;, score=(train=0.850, test=0.853) total time=   0.5s\n",
      "[CV 3/5] END bootstrap=False, max_features=log2, min_samples_leaf=5, min_samples_split=12, n_estimators=30;, score=(train=0.849, test=0.845) total time=   0.5s\n",
      "[CV 4/5] END bootstrap=False, max_features=log2, min_samples_leaf=5, min_samples_split=12, n_estimators=30;, score=(train=0.852, test=0.848) total time=   0.5s\n",
      "[CV 5/5] END bootstrap=False, max_features=log2, min_samples_leaf=5, min_samples_split=12, n_estimators=30;, score=(train=0.849, test=0.852) total time=   0.5s\n",
      "[CV 1/5] END bootstrap=False, max_features=log2, min_samples_leaf=5, min_samples_split=12, n_estimators=40;, score=(train=0.850, test=0.850) total time=   0.7s\n",
      "[CV 2/5] END bootstrap=False, max_features=log2, min_samples_leaf=5, min_samples_split=12, n_estimators=40;, score=(train=0.847, test=0.851) total time=   0.7s\n",
      "[CV 3/5] END bootstrap=False, max_features=log2, min_samples_leaf=5, min_samples_split=12, n_estimators=40;, score=(train=0.850, test=0.844) total time=   0.7s\n",
      "[CV 4/5] END bootstrap=False, max_features=log2, min_samples_leaf=5, min_samples_split=12, n_estimators=40;, score=(train=0.852, test=0.849) total time=   0.7s\n",
      "[CV 5/5] END bootstrap=False, max_features=log2, min_samples_leaf=5, min_samples_split=12, n_estimators=40;, score=(train=0.848, test=0.849) total time=   0.7s\n",
      "[CV 1/5] END bootstrap=False, max_features=log2, min_samples_leaf=5, min_samples_split=12, n_estimators=50;, score=(train=0.849, test=0.846) total time=   0.8s\n",
      "[CV 2/5] END bootstrap=False, max_features=log2, min_samples_leaf=5, min_samples_split=12, n_estimators=50;, score=(train=0.844, test=0.846) total time=   0.8s\n",
      "[CV 3/5] END bootstrap=False, max_features=log2, min_samples_leaf=5, min_samples_split=12, n_estimators=50;, score=(train=0.848, test=0.841) total time=   1.0s\n",
      "[CV 4/5] END bootstrap=False, max_features=log2, min_samples_leaf=5, min_samples_split=12, n_estimators=50;, score=(train=0.849, test=0.849) total time=   0.9s\n",
      "[CV 5/5] END bootstrap=False, max_features=log2, min_samples_leaf=5, min_samples_split=12, n_estimators=50;, score=(train=0.846, test=0.847) total time=   1.0s\n",
      "[CV 1/5] END bootstrap=False, max_features=log2, min_samples_leaf=5, min_samples_split=12, n_estimators=60;, score=(train=0.845, test=0.845) total time=   1.1s\n",
      "[CV 2/5] END bootstrap=False, max_features=log2, min_samples_leaf=5, min_samples_split=12, n_estimators=60;, score=(train=0.843, test=0.844) total time=   1.1s\n",
      "[CV 3/5] END bootstrap=False, max_features=log2, min_samples_leaf=5, min_samples_split=12, n_estimators=60;, score=(train=0.846, test=0.841) total time=   1.1s\n",
      "[CV 4/5] END bootstrap=False, max_features=log2, min_samples_leaf=5, min_samples_split=12, n_estimators=60;, score=(train=0.849, test=0.846) total time=   1.1s\n",
      "[CV 5/5] END bootstrap=False, max_features=log2, min_samples_leaf=5, min_samples_split=12, n_estimators=60;, score=(train=0.844, test=0.846) total time=   1.1s\n",
      "[CV 1/5] END bootstrap=False, max_features=log2, min_samples_leaf=5, min_samples_split=12, n_estimators=70;, score=(train=0.845, test=0.844) total time=   1.3s\n",
      "[CV 2/5] END bootstrap=False, max_features=log2, min_samples_leaf=5, min_samples_split=12, n_estimators=70;, score=(train=0.842, test=0.842) total time=   1.4s\n",
      "[CV 3/5] END bootstrap=False, max_features=log2, min_samples_leaf=5, min_samples_split=12, n_estimators=70;, score=(train=0.845, test=0.840) total time=   1.4s\n",
      "[CV 4/5] END bootstrap=False, max_features=log2, min_samples_leaf=5, min_samples_split=12, n_estimators=70;, score=(train=0.848, test=0.846) total time=   1.4s\n",
      "[CV 5/5] END bootstrap=False, max_features=log2, min_samples_leaf=5, min_samples_split=12, n_estimators=70;, score=(train=0.843, test=0.843) total time=   1.5s\n",
      "[CV 1/5] END bootstrap=False, max_features=log2, min_samples_leaf=5, min_samples_split=12, n_estimators=80;, score=(train=0.845, test=0.844) total time=   2.2s\n",
      "[CV 2/5] END bootstrap=False, max_features=log2, min_samples_leaf=5, min_samples_split=12, n_estimators=80;, score=(train=0.843, test=0.845) total time=   3.6s\n",
      "[CV 3/5] END bootstrap=False, max_features=log2, min_samples_leaf=5, min_samples_split=12, n_estimators=80;, score=(train=0.844, test=0.840) total time=   1.6s\n",
      "[CV 4/5] END bootstrap=False, max_features=log2, min_samples_leaf=5, min_samples_split=12, n_estimators=80;, score=(train=0.848, test=0.845) total time=   1.9s\n",
      "[CV 5/5] END bootstrap=False, max_features=log2, min_samples_leaf=5, min_samples_split=12, n_estimators=80;, score=(train=0.844, test=0.844) total time=   1.7s\n",
      "[CV 1/5] END bootstrap=False, max_features=log2, min_samples_leaf=5, min_samples_split=14, n_estimators=20;, score=(train=0.839, test=0.837) total time=   0.2s\n",
      "[CV 2/5] END bootstrap=False, max_features=log2, min_samples_leaf=5, min_samples_split=14, n_estimators=20;, score=(train=0.836, test=0.839) total time=   0.2s\n",
      "[CV 3/5] END bootstrap=False, max_features=log2, min_samples_leaf=5, min_samples_split=14, n_estimators=20;, score=(train=0.829, test=0.823) total time=   0.2s\n",
      "[CV 4/5] END bootstrap=False, max_features=log2, min_samples_leaf=5, min_samples_split=14, n_estimators=20;, score=(train=0.832, test=0.828) total time=   0.2s\n",
      "[CV 5/5] END bootstrap=False, max_features=log2, min_samples_leaf=5, min_samples_split=14, n_estimators=20;, score=(train=0.829, test=0.834) total time=   0.3s\n",
      "[CV 1/5] END bootstrap=False, max_features=log2, min_samples_leaf=5, min_samples_split=14, n_estimators=30;, score=(train=0.854, test=0.851) total time=   0.7s\n",
      "[CV 2/5] END bootstrap=False, max_features=log2, min_samples_leaf=5, min_samples_split=14, n_estimators=30;, score=(train=0.850, test=0.853) total time=   0.5s\n",
      "[CV 3/5] END bootstrap=False, max_features=log2, min_samples_leaf=5, min_samples_split=14, n_estimators=30;, score=(train=0.849, test=0.845) total time=   0.4s\n",
      "[CV 4/5] END bootstrap=False, max_features=log2, min_samples_leaf=5, min_samples_split=14, n_estimators=30;, score=(train=0.852, test=0.848) total time=   0.4s\n",
      "[CV 5/5] END bootstrap=False, max_features=log2, min_samples_leaf=5, min_samples_split=14, n_estimators=30;, score=(train=0.849, test=0.852) total time=   0.4s\n",
      "[CV 1/5] END bootstrap=False, max_features=log2, min_samples_leaf=5, min_samples_split=14, n_estimators=40;, score=(train=0.850, test=0.850) total time=   0.7s\n",
      "[CV 2/5] END bootstrap=False, max_features=log2, min_samples_leaf=5, min_samples_split=14, n_estimators=40;, score=(train=0.847, test=0.851) total time=   1.2s\n",
      "[CV 3/5] END bootstrap=False, max_features=log2, min_samples_leaf=5, min_samples_split=14, n_estimators=40;, score=(train=0.850, test=0.844) total time=   1.0s\n",
      "[CV 4/5] END bootstrap=False, max_features=log2, min_samples_leaf=5, min_samples_split=14, n_estimators=40;, score=(train=0.852, test=0.849) total time=   1.1s\n",
      "[CV 5/5] END bootstrap=False, max_features=log2, min_samples_leaf=5, min_samples_split=14, n_estimators=40;, score=(train=0.848, test=0.849) total time=   1.0s\n",
      "[CV 1/5] END bootstrap=False, max_features=log2, min_samples_leaf=5, min_samples_split=14, n_estimators=50;, score=(train=0.849, test=0.846) total time=   1.0s\n",
      "[CV 2/5] END bootstrap=False, max_features=log2, min_samples_leaf=5, min_samples_split=14, n_estimators=50;, score=(train=0.844, test=0.846) total time=   0.8s\n",
      "[CV 3/5] END bootstrap=False, max_features=log2, min_samples_leaf=5, min_samples_split=14, n_estimators=50;, score=(train=0.848, test=0.841) total time=   0.7s\n",
      "[CV 4/5] END bootstrap=False, max_features=log2, min_samples_leaf=5, min_samples_split=14, n_estimators=50;, score=(train=0.849, test=0.849) total time=   0.7s\n",
      "[CV 5/5] END bootstrap=False, max_features=log2, min_samples_leaf=5, min_samples_split=14, n_estimators=50;, score=(train=0.846, test=0.847) total time=   0.7s\n",
      "[CV 1/5] END bootstrap=False, max_features=log2, min_samples_leaf=5, min_samples_split=14, n_estimators=60;, score=(train=0.845, test=0.845) total time=   0.9s\n",
      "[CV 2/5] END bootstrap=False, max_features=log2, min_samples_leaf=5, min_samples_split=14, n_estimators=60;, score=(train=0.843, test=0.844) total time=   0.9s\n",
      "[CV 3/5] END bootstrap=False, max_features=log2, min_samples_leaf=5, min_samples_split=14, n_estimators=60;, score=(train=0.846, test=0.841) total time=   1.0s\n",
      "[CV 4/5] END bootstrap=False, max_features=log2, min_samples_leaf=5, min_samples_split=14, n_estimators=60;, score=(train=0.849, test=0.846) total time=   0.9s\n",
      "[CV 5/5] END bootstrap=False, max_features=log2, min_samples_leaf=5, min_samples_split=14, n_estimators=60;, score=(train=0.844, test=0.846) total time=   0.9s\n",
      "[CV 1/5] END bootstrap=False, max_features=log2, min_samples_leaf=5, min_samples_split=14, n_estimators=70;, score=(train=0.845, test=0.844) total time=   1.3s\n",
      "[CV 2/5] END bootstrap=False, max_features=log2, min_samples_leaf=5, min_samples_split=14, n_estimators=70;, score=(train=0.842, test=0.842) total time=   1.1s\n",
      "[CV 3/5] END bootstrap=False, max_features=log2, min_samples_leaf=5, min_samples_split=14, n_estimators=70;, score=(train=0.845, test=0.840) total time=   1.1s\n",
      "[CV 4/5] END bootstrap=False, max_features=log2, min_samples_leaf=5, min_samples_split=14, n_estimators=70;, score=(train=0.848, test=0.846) total time=   1.4s\n",
      "[CV 5/5] END bootstrap=False, max_features=log2, min_samples_leaf=5, min_samples_split=14, n_estimators=70;, score=(train=0.843, test=0.843) total time=   2.4s\n",
      "[CV 1/5] END bootstrap=False, max_features=log2, min_samples_leaf=5, min_samples_split=14, n_estimators=80;, score=(train=0.845, test=0.844) total time=   1.8s\n",
      "[CV 2/5] END bootstrap=False, max_features=log2, min_samples_leaf=5, min_samples_split=14, n_estimators=80;, score=(train=0.843, test=0.845) total time=   1.9s\n",
      "[CV 3/5] END bootstrap=False, max_features=log2, min_samples_leaf=5, min_samples_split=14, n_estimators=80;, score=(train=0.844, test=0.840) total time=   1.9s\n",
      "[CV 4/5] END bootstrap=False, max_features=log2, min_samples_leaf=5, min_samples_split=14, n_estimators=80;, score=(train=0.848, test=0.845) total time=   1.9s\n",
      "[CV 5/5] END bootstrap=False, max_features=log2, min_samples_leaf=5, min_samples_split=14, n_estimators=80;, score=(train=0.844, test=0.844) total time=   1.8s\n",
      "[CV 1/5] END bootstrap=False, max_features=log2, min_samples_leaf=5, min_samples_split=16, n_estimators=20;, score=(train=0.839, test=0.837) total time=   0.4s\n",
      "[CV 2/5] END bootstrap=False, max_features=log2, min_samples_leaf=5, min_samples_split=16, n_estimators=20;, score=(train=0.836, test=0.839) total time=   0.4s\n",
      "[CV 3/5] END bootstrap=False, max_features=log2, min_samples_leaf=5, min_samples_split=16, n_estimators=20;, score=(train=0.829, test=0.823) total time=   0.3s\n",
      "[CV 4/5] END bootstrap=False, max_features=log2, min_samples_leaf=5, min_samples_split=16, n_estimators=20;, score=(train=0.832, test=0.828) total time=   0.4s\n",
      "[CV 5/5] END bootstrap=False, max_features=log2, min_samples_leaf=5, min_samples_split=16, n_estimators=20;, score=(train=0.829, test=0.834) total time=   0.4s\n",
      "[CV 1/5] END bootstrap=False, max_features=log2, min_samples_leaf=5, min_samples_split=16, n_estimators=30;, score=(train=0.854, test=0.851) total time=   0.7s\n",
      "[CV 2/5] END bootstrap=False, max_features=log2, min_samples_leaf=5, min_samples_split=16, n_estimators=30;, score=(train=0.850, test=0.853) total time=   0.6s\n",
      "[CV 3/5] END bootstrap=False, max_features=log2, min_samples_leaf=5, min_samples_split=16, n_estimators=30;, score=(train=0.849, test=0.845) total time=   0.7s\n",
      "[CV 4/5] END bootstrap=False, max_features=log2, min_samples_leaf=5, min_samples_split=16, n_estimators=30;, score=(train=0.852, test=0.848) total time=   0.7s\n",
      "[CV 5/5] END bootstrap=False, max_features=log2, min_samples_leaf=5, min_samples_split=16, n_estimators=30;, score=(train=0.849, test=0.852) total time=   0.7s\n",
      "[CV 1/5] END bootstrap=False, max_features=log2, min_samples_leaf=5, min_samples_split=16, n_estimators=40;, score=(train=0.850, test=0.850) total time=   1.2s\n",
      "[CV 2/5] END bootstrap=False, max_features=log2, min_samples_leaf=5, min_samples_split=16, n_estimators=40;, score=(train=0.847, test=0.851) total time=   0.9s\n",
      "[CV 3/5] END bootstrap=False, max_features=log2, min_samples_leaf=5, min_samples_split=16, n_estimators=40;, score=(train=0.850, test=0.844) total time=   0.8s\n",
      "[CV 4/5] END bootstrap=False, max_features=log2, min_samples_leaf=5, min_samples_split=16, n_estimators=40;, score=(train=0.852, test=0.849) total time=   0.8s\n",
      "[CV 5/5] END bootstrap=False, max_features=log2, min_samples_leaf=5, min_samples_split=16, n_estimators=40;, score=(train=0.848, test=0.849) total time=   1.1s\n",
      "[CV 1/5] END bootstrap=False, max_features=log2, min_samples_leaf=5, min_samples_split=16, n_estimators=50;, score=(train=0.849, test=0.846) total time=   1.2s\n",
      "[CV 2/5] END bootstrap=False, max_features=log2, min_samples_leaf=5, min_samples_split=16, n_estimators=50;, score=(train=0.844, test=0.846) total time=   1.7s\n",
      "[CV 3/5] END bootstrap=False, max_features=log2, min_samples_leaf=5, min_samples_split=16, n_estimators=50;, score=(train=0.848, test=0.841) total time=   1.3s\n",
      "[CV 4/5] END bootstrap=False, max_features=log2, min_samples_leaf=5, min_samples_split=16, n_estimators=50;, score=(train=0.849, test=0.849) total time=   1.2s\n",
      "[CV 5/5] END bootstrap=False, max_features=log2, min_samples_leaf=5, min_samples_split=16, n_estimators=50;, score=(train=0.846, test=0.847) total time=   1.3s\n",
      "[CV 1/5] END bootstrap=False, max_features=log2, min_samples_leaf=5, min_samples_split=16, n_estimators=60;, score=(train=0.845, test=0.845) total time=   1.3s\n",
      "[CV 2/5] END bootstrap=False, max_features=log2, min_samples_leaf=5, min_samples_split=16, n_estimators=60;, score=(train=0.843, test=0.844) total time=   1.3s\n",
      "[CV 3/5] END bootstrap=False, max_features=log2, min_samples_leaf=5, min_samples_split=16, n_estimators=60;, score=(train=0.846, test=0.841) total time=   1.3s\n",
      "[CV 4/5] END bootstrap=False, max_features=log2, min_samples_leaf=5, min_samples_split=16, n_estimators=60;, score=(train=0.849, test=0.846) total time=   1.3s\n",
      "[CV 5/5] END bootstrap=False, max_features=log2, min_samples_leaf=5, min_samples_split=16, n_estimators=60;, score=(train=0.844, test=0.846) total time=   1.4s\n",
      "[CV 1/5] END bootstrap=False, max_features=log2, min_samples_leaf=5, min_samples_split=16, n_estimators=70;, score=(train=0.845, test=0.844) total time=   1.5s\n",
      "[CV 2/5] END bootstrap=False, max_features=log2, min_samples_leaf=5, min_samples_split=16, n_estimators=70;, score=(train=0.842, test=0.842) total time=   1.8s\n",
      "[CV 3/5] END bootstrap=False, max_features=log2, min_samples_leaf=5, min_samples_split=16, n_estimators=70;, score=(train=0.845, test=0.840) total time=   1.6s\n",
      "[CV 4/5] END bootstrap=False, max_features=log2, min_samples_leaf=5, min_samples_split=16, n_estimators=70;, score=(train=0.848, test=0.846) total time=   1.7s\n",
      "[CV 5/5] END bootstrap=False, max_features=log2, min_samples_leaf=5, min_samples_split=16, n_estimators=70;, score=(train=0.843, test=0.843) total time=   1.6s\n",
      "[CV 1/5] END bootstrap=False, max_features=log2, min_samples_leaf=5, min_samples_split=16, n_estimators=80;, score=(train=0.845, test=0.844) total time=   1.9s\n",
      "[CV 2/5] END bootstrap=False, max_features=log2, min_samples_leaf=5, min_samples_split=16, n_estimators=80;, score=(train=0.843, test=0.845) total time=   2.0s\n",
      "[CV 3/5] END bootstrap=False, max_features=log2, min_samples_leaf=5, min_samples_split=16, n_estimators=80;, score=(train=0.844, test=0.840) total time=   1.8s\n",
      "[CV 4/5] END bootstrap=False, max_features=log2, min_samples_leaf=5, min_samples_split=16, n_estimators=80;, score=(train=0.848, test=0.845) total time=   1.7s\n",
      "[CV 5/5] END bootstrap=False, max_features=log2, min_samples_leaf=5, min_samples_split=16, n_estimators=80;, score=(train=0.844, test=0.844) total time=   2.1s\n",
      "[CV 1/5] END bootstrap=False, max_features=log2, min_samples_leaf=5, min_samples_split=18, n_estimators=20;, score=(train=0.839, test=0.837) total time=   0.9s\n",
      "[CV 2/5] END bootstrap=False, max_features=log2, min_samples_leaf=5, min_samples_split=18, n_estimators=20;, score=(train=0.836, test=0.839) total time=   0.6s\n",
      "[CV 3/5] END bootstrap=False, max_features=log2, min_samples_leaf=5, min_samples_split=18, n_estimators=20;, score=(train=0.829, test=0.823) total time=   0.5s\n",
      "[CV 4/5] END bootstrap=False, max_features=log2, min_samples_leaf=5, min_samples_split=18, n_estimators=20;, score=(train=0.832, test=0.828) total time=   0.7s\n",
      "[CV 5/5] END bootstrap=False, max_features=log2, min_samples_leaf=5, min_samples_split=18, n_estimators=20;, score=(train=0.829, test=0.834) total time=   0.5s\n",
      "[CV 1/5] END bootstrap=False, max_features=log2, min_samples_leaf=5, min_samples_split=18, n_estimators=30;, score=(train=0.854, test=0.851) total time=   0.7s\n",
      "[CV 2/5] END bootstrap=False, max_features=log2, min_samples_leaf=5, min_samples_split=18, n_estimators=30;, score=(train=0.850, test=0.853) total time=   0.9s\n",
      "[CV 3/5] END bootstrap=False, max_features=log2, min_samples_leaf=5, min_samples_split=18, n_estimators=30;, score=(train=0.849, test=0.845) total time=   1.1s\n",
      "[CV 4/5] END bootstrap=False, max_features=log2, min_samples_leaf=5, min_samples_split=18, n_estimators=30;, score=(train=0.852, test=0.848) total time=   0.6s\n",
      "[CV 5/5] END bootstrap=False, max_features=log2, min_samples_leaf=5, min_samples_split=18, n_estimators=30;, score=(train=0.849, test=0.852) total time=   0.6s\n",
      "[CV 1/5] END bootstrap=False, max_features=log2, min_samples_leaf=5, min_samples_split=18, n_estimators=40;, score=(train=0.850, test=0.850) total time=   0.7s\n",
      "[CV 2/5] END bootstrap=False, max_features=log2, min_samples_leaf=5, min_samples_split=18, n_estimators=40;, score=(train=0.847, test=0.851) total time=   0.8s\n",
      "[CV 3/5] END bootstrap=False, max_features=log2, min_samples_leaf=5, min_samples_split=18, n_estimators=40;, score=(train=0.850, test=0.844) total time=   1.0s\n",
      "[CV 4/5] END bootstrap=False, max_features=log2, min_samples_leaf=5, min_samples_split=18, n_estimators=40;, score=(train=0.852, test=0.849) total time=   0.9s\n",
      "[CV 5/5] END bootstrap=False, max_features=log2, min_samples_leaf=5, min_samples_split=18, n_estimators=40;, score=(train=0.848, test=0.849) total time=   0.8s\n",
      "[CV 1/5] END bootstrap=False, max_features=log2, min_samples_leaf=5, min_samples_split=18, n_estimators=50;, score=(train=0.849, test=0.846) total time=   1.2s\n",
      "[CV 2/5] END bootstrap=False, max_features=log2, min_samples_leaf=5, min_samples_split=18, n_estimators=50;, score=(train=0.844, test=0.846) total time=   1.2s\n",
      "[CV 3/5] END bootstrap=False, max_features=log2, min_samples_leaf=5, min_samples_split=18, n_estimators=50;, score=(train=0.848, test=0.841) total time=   1.0s\n",
      "[CV 4/5] END bootstrap=False, max_features=log2, min_samples_leaf=5, min_samples_split=18, n_estimators=50;, score=(train=0.849, test=0.849) total time=   1.6s\n",
      "[CV 5/5] END bootstrap=False, max_features=log2, min_samples_leaf=5, min_samples_split=18, n_estimators=50;, score=(train=0.846, test=0.847) total time=   1.4s\n",
      "[CV 1/5] END bootstrap=False, max_features=log2, min_samples_leaf=5, min_samples_split=18, n_estimators=60;, score=(train=0.845, test=0.845) total time=   1.5s\n",
      "[CV 2/5] END bootstrap=False, max_features=log2, min_samples_leaf=5, min_samples_split=18, n_estimators=60;, score=(train=0.843, test=0.844) total time=   1.4s\n",
      "[CV 3/5] END bootstrap=False, max_features=log2, min_samples_leaf=5, min_samples_split=18, n_estimators=60;, score=(train=0.846, test=0.841) total time=   1.6s\n",
      "[CV 4/5] END bootstrap=False, max_features=log2, min_samples_leaf=5, min_samples_split=18, n_estimators=60;, score=(train=0.849, test=0.846) total time=   1.4s\n",
      "[CV 5/5] END bootstrap=False, max_features=log2, min_samples_leaf=5, min_samples_split=18, n_estimators=60;, score=(train=0.844, test=0.846) total time=   1.5s\n",
      "[CV 1/5] END bootstrap=False, max_features=log2, min_samples_leaf=5, min_samples_split=18, n_estimators=70;, score=(train=0.845, test=0.844) total time=   2.5s\n",
      "[CV 2/5] END bootstrap=False, max_features=log2, min_samples_leaf=5, min_samples_split=18, n_estimators=70;, score=(train=0.842, test=0.842) total time=   1.9s\n",
      "[CV 3/5] END bootstrap=False, max_features=log2, min_samples_leaf=5, min_samples_split=18, n_estimators=70;, score=(train=0.845, test=0.840) total time=   1.9s\n",
      "[CV 4/5] END bootstrap=False, max_features=log2, min_samples_leaf=5, min_samples_split=18, n_estimators=70;, score=(train=0.848, test=0.846) total time=   1.4s\n",
      "[CV 5/5] END bootstrap=False, max_features=log2, min_samples_leaf=5, min_samples_split=18, n_estimators=70;, score=(train=0.843, test=0.843) total time=   1.6s\n",
      "[CV 1/5] END bootstrap=False, max_features=log2, min_samples_leaf=5, min_samples_split=18, n_estimators=80;, score=(train=0.845, test=0.844) total time=   1.5s\n",
      "[CV 2/5] END bootstrap=False, max_features=log2, min_samples_leaf=5, min_samples_split=18, n_estimators=80;, score=(train=0.843, test=0.845) total time=   1.7s\n",
      "[CV 3/5] END bootstrap=False, max_features=log2, min_samples_leaf=5, min_samples_split=18, n_estimators=80;, score=(train=0.844, test=0.840) total time=   1.9s\n",
      "[CV 4/5] END bootstrap=False, max_features=log2, min_samples_leaf=5, min_samples_split=18, n_estimators=80;, score=(train=0.848, test=0.845) total time=   1.6s\n",
      "[CV 5/5] END bootstrap=False, max_features=log2, min_samples_leaf=5, min_samples_split=18, n_estimators=80;, score=(train=0.844, test=0.844) total time=   1.5s\n",
      "[CV 1/5] END bootstrap=False, max_features=log2, min_samples_leaf=5, min_samples_split=20, n_estimators=20;, score=(train=0.839, test=0.837) total time=   0.4s\n",
      "[CV 2/5] END bootstrap=False, max_features=log2, min_samples_leaf=5, min_samples_split=20, n_estimators=20;, score=(train=0.836, test=0.839) total time=   0.3s\n",
      "[CV 3/5] END bootstrap=False, max_features=log2, min_samples_leaf=5, min_samples_split=20, n_estimators=20;, score=(train=0.829, test=0.823) total time=   0.3s\n",
      "[CV 4/5] END bootstrap=False, max_features=log2, min_samples_leaf=5, min_samples_split=20, n_estimators=20;, score=(train=0.832, test=0.828) total time=   0.3s\n",
      "[CV 5/5] END bootstrap=False, max_features=log2, min_samples_leaf=5, min_samples_split=20, n_estimators=20;, score=(train=0.829, test=0.834) total time=   0.3s\n",
      "[CV 1/5] END bootstrap=False, max_features=log2, min_samples_leaf=5, min_samples_split=20, n_estimators=30;, score=(train=0.854, test=0.851) total time=   0.5s\n",
      "[CV 2/5] END bootstrap=False, max_features=log2, min_samples_leaf=5, min_samples_split=20, n_estimators=30;, score=(train=0.850, test=0.853) total time=   0.5s\n",
      "[CV 3/5] END bootstrap=False, max_features=log2, min_samples_leaf=5, min_samples_split=20, n_estimators=30;, score=(train=0.849, test=0.845) total time=   0.5s\n",
      "[CV 4/5] END bootstrap=False, max_features=log2, min_samples_leaf=5, min_samples_split=20, n_estimators=30;, score=(train=0.852, test=0.848) total time=   0.6s\n",
      "[CV 5/5] END bootstrap=False, max_features=log2, min_samples_leaf=5, min_samples_split=20, n_estimators=30;, score=(train=0.849, test=0.852) total time=   0.7s\n",
      "[CV 1/5] END bootstrap=False, max_features=log2, min_samples_leaf=5, min_samples_split=20, n_estimators=40;, score=(train=0.850, test=0.850) total time=   1.4s\n",
      "[CV 2/5] END bootstrap=False, max_features=log2, min_samples_leaf=5, min_samples_split=20, n_estimators=40;, score=(train=0.847, test=0.851) total time=   1.9s\n",
      "[CV 3/5] END bootstrap=False, max_features=log2, min_samples_leaf=5, min_samples_split=20, n_estimators=40;, score=(train=0.850, test=0.844) total time=   1.5s\n",
      "[CV 4/5] END bootstrap=False, max_features=log2, min_samples_leaf=5, min_samples_split=20, n_estimators=40;, score=(train=0.852, test=0.849) total time=   1.5s\n",
      "[CV 5/5] END bootstrap=False, max_features=log2, min_samples_leaf=5, min_samples_split=20, n_estimators=40;, score=(train=0.848, test=0.849) total time=   1.7s\n",
      "[CV 1/5] END bootstrap=False, max_features=log2, min_samples_leaf=5, min_samples_split=20, n_estimators=50;, score=(train=0.849, test=0.846) total time=   1.3s\n",
      "[CV 2/5] END bootstrap=False, max_features=log2, min_samples_leaf=5, min_samples_split=20, n_estimators=50;, score=(train=0.844, test=0.846) total time=   1.8s\n",
      "[CV 3/5] END bootstrap=False, max_features=log2, min_samples_leaf=5, min_samples_split=20, n_estimators=50;, score=(train=0.848, test=0.841) total time=   1.4s\n",
      "[CV 4/5] END bootstrap=False, max_features=log2, min_samples_leaf=5, min_samples_split=20, n_estimators=50;, score=(train=0.849, test=0.849) total time=   1.2s\n",
      "[CV 5/5] END bootstrap=False, max_features=log2, min_samples_leaf=5, min_samples_split=20, n_estimators=50;, score=(train=0.846, test=0.847) total time=   1.1s\n",
      "[CV 1/5] END bootstrap=False, max_features=log2, min_samples_leaf=5, min_samples_split=20, n_estimators=60;, score=(train=0.845, test=0.845) total time=   1.4s\n",
      "[CV 2/5] END bootstrap=False, max_features=log2, min_samples_leaf=5, min_samples_split=20, n_estimators=60;, score=(train=0.843, test=0.844) total time=   1.9s\n",
      "[CV 3/5] END bootstrap=False, max_features=log2, min_samples_leaf=5, min_samples_split=20, n_estimators=60;, score=(train=0.846, test=0.841) total time=   2.0s\n",
      "[CV 4/5] END bootstrap=False, max_features=log2, min_samples_leaf=5, min_samples_split=20, n_estimators=60;, score=(train=0.849, test=0.846) total time=   2.2s\n",
      "[CV 5/5] END bootstrap=False, max_features=log2, min_samples_leaf=5, min_samples_split=20, n_estimators=60;, score=(train=0.844, test=0.846) total time=   1.8s\n",
      "[CV 1/5] END bootstrap=False, max_features=log2, min_samples_leaf=5, min_samples_split=20, n_estimators=70;, score=(train=0.845, test=0.844) total time=   2.2s\n",
      "[CV 2/5] END bootstrap=False, max_features=log2, min_samples_leaf=5, min_samples_split=20, n_estimators=70;, score=(train=0.842, test=0.842) total time=   3.0s\n",
      "[CV 3/5] END bootstrap=False, max_features=log2, min_samples_leaf=5, min_samples_split=20, n_estimators=70;, score=(train=0.845, test=0.840) total time=   3.7s\n",
      "[CV 4/5] END bootstrap=False, max_features=log2, min_samples_leaf=5, min_samples_split=20, n_estimators=70;, score=(train=0.848, test=0.846) total time=   3.5s\n",
      "[CV 5/5] END bootstrap=False, max_features=log2, min_samples_leaf=5, min_samples_split=20, n_estimators=70;, score=(train=0.843, test=0.843) total time=   2.9s\n",
      "[CV 1/5] END bootstrap=False, max_features=log2, min_samples_leaf=5, min_samples_split=20, n_estimators=80;, score=(train=0.845, test=0.844) total time=   2.4s\n",
      "[CV 2/5] END bootstrap=False, max_features=log2, min_samples_leaf=5, min_samples_split=20, n_estimators=80;, score=(train=0.843, test=0.845) total time=   2.3s\n",
      "[CV 3/5] END bootstrap=False, max_features=log2, min_samples_leaf=5, min_samples_split=20, n_estimators=80;, score=(train=0.844, test=0.840) total time=   2.1s\n",
      "[CV 4/5] END bootstrap=False, max_features=log2, min_samples_leaf=5, min_samples_split=20, n_estimators=80;, score=(train=0.848, test=0.845) total time=   2.0s\n",
      "[CV 5/5] END bootstrap=False, max_features=log2, min_samples_leaf=5, min_samples_split=20, n_estimators=80;, score=(train=0.844, test=0.844) total time=   2.2s\n",
      "[CV 1/5] END bootstrap=False, max_features=sqrt, min_samples_leaf=5, min_samples_split=12, n_estimators=20;, score=(train=0.839, test=0.837) total time=   0.4s\n",
      "[CV 2/5] END bootstrap=False, max_features=sqrt, min_samples_leaf=5, min_samples_split=12, n_estimators=20;, score=(train=0.836, test=0.839) total time=   0.4s\n",
      "[CV 3/5] END bootstrap=False, max_features=sqrt, min_samples_leaf=5, min_samples_split=12, n_estimators=20;, score=(train=0.829, test=0.823) total time=   0.4s\n",
      "[CV 4/5] END bootstrap=False, max_features=sqrt, min_samples_leaf=5, min_samples_split=12, n_estimators=20;, score=(train=0.832, test=0.828) total time=   0.4s\n",
      "[CV 5/5] END bootstrap=False, max_features=sqrt, min_samples_leaf=5, min_samples_split=12, n_estimators=20;, score=(train=0.829, test=0.834) total time=   0.5s\n",
      "[CV 1/5] END bootstrap=False, max_features=sqrt, min_samples_leaf=5, min_samples_split=12, n_estimators=30;, score=(train=0.854, test=0.851) total time=   0.7s\n",
      "[CV 2/5] END bootstrap=False, max_features=sqrt, min_samples_leaf=5, min_samples_split=12, n_estimators=30;, score=(train=0.850, test=0.853) total time=   0.8s\n",
      "[CV 3/5] END bootstrap=False, max_features=sqrt, min_samples_leaf=5, min_samples_split=12, n_estimators=30;, score=(train=0.849, test=0.845) total time=   0.6s\n",
      "[CV 4/5] END bootstrap=False, max_features=sqrt, min_samples_leaf=5, min_samples_split=12, n_estimators=30;, score=(train=0.852, test=0.848) total time=   0.8s\n",
      "[CV 5/5] END bootstrap=False, max_features=sqrt, min_samples_leaf=5, min_samples_split=12, n_estimators=30;, score=(train=0.849, test=0.852) total time=   0.8s\n",
      "[CV 1/5] END bootstrap=False, max_features=sqrt, min_samples_leaf=5, min_samples_split=12, n_estimators=40;, score=(train=0.850, test=0.850) total time=   1.0s\n",
      "[CV 2/5] END bootstrap=False, max_features=sqrt, min_samples_leaf=5, min_samples_split=12, n_estimators=40;, score=(train=0.847, test=0.851) total time=   0.8s\n",
      "[CV 3/5] END bootstrap=False, max_features=sqrt, min_samples_leaf=5, min_samples_split=12, n_estimators=40;, score=(train=0.850, test=0.844) total time=   1.2s\n",
      "[CV 4/5] END bootstrap=False, max_features=sqrt, min_samples_leaf=5, min_samples_split=12, n_estimators=40;, score=(train=0.852, test=0.849) total time=   1.2s\n",
      "[CV 5/5] END bootstrap=False, max_features=sqrt, min_samples_leaf=5, min_samples_split=12, n_estimators=40;, score=(train=0.848, test=0.849) total time=   1.1s\n",
      "[CV 1/5] END bootstrap=False, max_features=sqrt, min_samples_leaf=5, min_samples_split=12, n_estimators=50;, score=(train=0.849, test=0.846) total time=   1.3s\n",
      "[CV 2/5] END bootstrap=False, max_features=sqrt, min_samples_leaf=5, min_samples_split=12, n_estimators=50;, score=(train=0.844, test=0.846) total time=   1.2s\n",
      "[CV 3/5] END bootstrap=False, max_features=sqrt, min_samples_leaf=5, min_samples_split=12, n_estimators=50;, score=(train=0.848, test=0.841) total time=   1.1s\n",
      "[CV 4/5] END bootstrap=False, max_features=sqrt, min_samples_leaf=5, min_samples_split=12, n_estimators=50;, score=(train=0.849, test=0.849) total time=   1.2s\n",
      "[CV 5/5] END bootstrap=False, max_features=sqrt, min_samples_leaf=5, min_samples_split=12, n_estimators=50;, score=(train=0.846, test=0.847) total time=   1.4s\n",
      "[CV 1/5] END bootstrap=False, max_features=sqrt, min_samples_leaf=5, min_samples_split=12, n_estimators=60;, score=(train=0.845, test=0.845) total time=   1.6s\n",
      "[CV 2/5] END bootstrap=False, max_features=sqrt, min_samples_leaf=5, min_samples_split=12, n_estimators=60;, score=(train=0.843, test=0.844) total time=   1.4s\n",
      "[CV 3/5] END bootstrap=False, max_features=sqrt, min_samples_leaf=5, min_samples_split=12, n_estimators=60;, score=(train=0.846, test=0.841) total time=   1.4s\n",
      "[CV 4/5] END bootstrap=False, max_features=sqrt, min_samples_leaf=5, min_samples_split=12, n_estimators=60;, score=(train=0.849, test=0.846) total time=   1.4s\n",
      "[CV 5/5] END bootstrap=False, max_features=sqrt, min_samples_leaf=5, min_samples_split=12, n_estimators=60;, score=(train=0.844, test=0.846) total time=   1.6s\n",
      "[CV 1/5] END bootstrap=False, max_features=sqrt, min_samples_leaf=5, min_samples_split=12, n_estimators=70;, score=(train=0.845, test=0.844) total time=   1.9s\n",
      "[CV 2/5] END bootstrap=False, max_features=sqrt, min_samples_leaf=5, min_samples_split=12, n_estimators=70;, score=(train=0.842, test=0.842) total time=   1.6s\n",
      "[CV 3/5] END bootstrap=False, max_features=sqrt, min_samples_leaf=5, min_samples_split=12, n_estimators=70;, score=(train=0.845, test=0.840) total time=   1.9s\n",
      "[CV 4/5] END bootstrap=False, max_features=sqrt, min_samples_leaf=5, min_samples_split=12, n_estimators=70;, score=(train=0.848, test=0.846) total time=   1.9s\n",
      "[CV 5/5] END bootstrap=False, max_features=sqrt, min_samples_leaf=5, min_samples_split=12, n_estimators=70;, score=(train=0.843, test=0.843) total time=   1.6s\n",
      "[CV 1/5] END bootstrap=False, max_features=sqrt, min_samples_leaf=5, min_samples_split=12, n_estimators=80;, score=(train=0.845, test=0.844) total time=   2.0s\n",
      "[CV 2/5] END bootstrap=False, max_features=sqrt, min_samples_leaf=5, min_samples_split=12, n_estimators=80;, score=(train=0.843, test=0.845) total time=   1.7s\n",
      "[CV 3/5] END bootstrap=False, max_features=sqrt, min_samples_leaf=5, min_samples_split=12, n_estimators=80;, score=(train=0.844, test=0.840) total time=   1.8s\n",
      "[CV 4/5] END bootstrap=False, max_features=sqrt, min_samples_leaf=5, min_samples_split=12, n_estimators=80;, score=(train=0.848, test=0.845) total time=   2.0s\n",
      "[CV 5/5] END bootstrap=False, max_features=sqrt, min_samples_leaf=5, min_samples_split=12, n_estimators=80;, score=(train=0.844, test=0.844) total time=   1.7s\n",
      "[CV 1/5] END bootstrap=False, max_features=sqrt, min_samples_leaf=5, min_samples_split=14, n_estimators=20;, score=(train=0.839, test=0.837) total time=   0.5s\n",
      "[CV 2/5] END bootstrap=False, max_features=sqrt, min_samples_leaf=5, min_samples_split=14, n_estimators=20;, score=(train=0.836, test=0.839) total time=   0.4s\n",
      "[CV 3/5] END bootstrap=False, max_features=sqrt, min_samples_leaf=5, min_samples_split=14, n_estimators=20;, score=(train=0.829, test=0.823) total time=   0.4s\n",
      "[CV 4/5] END bootstrap=False, max_features=sqrt, min_samples_leaf=5, min_samples_split=14, n_estimators=20;, score=(train=0.832, test=0.828) total time=   0.6s\n",
      "[CV 5/5] END bootstrap=False, max_features=sqrt, min_samples_leaf=5, min_samples_split=14, n_estimators=20;, score=(train=0.829, test=0.834) total time=   0.6s\n",
      "[CV 1/5] END bootstrap=False, max_features=sqrt, min_samples_leaf=5, min_samples_split=14, n_estimators=30;, score=(train=0.854, test=0.851) total time=   0.8s\n",
      "[CV 2/5] END bootstrap=False, max_features=sqrt, min_samples_leaf=5, min_samples_split=14, n_estimators=30;, score=(train=0.850, test=0.853) total time=   0.7s\n",
      "[CV 3/5] END bootstrap=False, max_features=sqrt, min_samples_leaf=5, min_samples_split=14, n_estimators=30;, score=(train=0.849, test=0.845) total time=   0.7s\n",
      "[CV 4/5] END bootstrap=False, max_features=sqrt, min_samples_leaf=5, min_samples_split=14, n_estimators=30;, score=(train=0.852, test=0.848) total time=   0.6s\n",
      "[CV 5/5] END bootstrap=False, max_features=sqrt, min_samples_leaf=5, min_samples_split=14, n_estimators=30;, score=(train=0.849, test=0.852) total time=   0.5s\n",
      "[CV 1/5] END bootstrap=False, max_features=sqrt, min_samples_leaf=5, min_samples_split=14, n_estimators=40;, score=(train=0.850, test=0.850) total time=   0.8s\n",
      "[CV 2/5] END bootstrap=False, max_features=sqrt, min_samples_leaf=5, min_samples_split=14, n_estimators=40;, score=(train=0.847, test=0.851) total time=   0.7s\n",
      "[CV 3/5] END bootstrap=False, max_features=sqrt, min_samples_leaf=5, min_samples_split=14, n_estimators=40;, score=(train=0.850, test=0.844) total time=   0.8s\n",
      "[CV 4/5] END bootstrap=False, max_features=sqrt, min_samples_leaf=5, min_samples_split=14, n_estimators=40;, score=(train=0.852, test=0.849) total time=   0.9s\n",
      "[CV 5/5] END bootstrap=False, max_features=sqrt, min_samples_leaf=5, min_samples_split=14, n_estimators=40;, score=(train=0.848, test=0.849) total time=   0.9s\n",
      "[CV 1/5] END bootstrap=False, max_features=sqrt, min_samples_leaf=5, min_samples_split=14, n_estimators=50;, score=(train=0.849, test=0.846) total time=   1.2s\n",
      "[CV 2/5] END bootstrap=False, max_features=sqrt, min_samples_leaf=5, min_samples_split=14, n_estimators=50;, score=(train=0.844, test=0.846) total time=   1.1s\n",
      "[CV 3/5] END bootstrap=False, max_features=sqrt, min_samples_leaf=5, min_samples_split=14, n_estimators=50;, score=(train=0.848, test=0.841) total time=   1.3s\n",
      "[CV 4/5] END bootstrap=False, max_features=sqrt, min_samples_leaf=5, min_samples_split=14, n_estimators=50;, score=(train=0.849, test=0.849) total time=   1.2s\n",
      "[CV 5/5] END bootstrap=False, max_features=sqrt, min_samples_leaf=5, min_samples_split=14, n_estimators=50;, score=(train=0.846, test=0.847) total time=   1.0s\n",
      "[CV 1/5] END bootstrap=False, max_features=sqrt, min_samples_leaf=5, min_samples_split=14, n_estimators=60;, score=(train=0.845, test=0.845) total time=   1.8s\n",
      "[CV 2/5] END bootstrap=False, max_features=sqrt, min_samples_leaf=5, min_samples_split=14, n_estimators=60;, score=(train=0.843, test=0.844) total time=   1.7s\n",
      "[CV 3/5] END bootstrap=False, max_features=sqrt, min_samples_leaf=5, min_samples_split=14, n_estimators=60;, score=(train=0.846, test=0.841) total time=   1.6s\n",
      "[CV 4/5] END bootstrap=False, max_features=sqrt, min_samples_leaf=5, min_samples_split=14, n_estimators=60;, score=(train=0.849, test=0.846) total time=   1.6s\n",
      "[CV 5/5] END bootstrap=False, max_features=sqrt, min_samples_leaf=5, min_samples_split=14, n_estimators=60;, score=(train=0.844, test=0.846) total time=   1.4s\n",
      "[CV 1/5] END bootstrap=False, max_features=sqrt, min_samples_leaf=5, min_samples_split=14, n_estimators=70;, score=(train=0.845, test=0.844) total time=   1.7s\n",
      "[CV 2/5] END bootstrap=False, max_features=sqrt, min_samples_leaf=5, min_samples_split=14, n_estimators=70;, score=(train=0.842, test=0.842) total time=   1.7s\n",
      "[CV 3/5] END bootstrap=False, max_features=sqrt, min_samples_leaf=5, min_samples_split=14, n_estimators=70;, score=(train=0.845, test=0.840) total time=   1.4s\n",
      "[CV 4/5] END bootstrap=False, max_features=sqrt, min_samples_leaf=5, min_samples_split=14, n_estimators=70;, score=(train=0.848, test=0.846) total time=   1.5s\n",
      "[CV 5/5] END bootstrap=False, max_features=sqrt, min_samples_leaf=5, min_samples_split=14, n_estimators=70;, score=(train=0.843, test=0.843) total time=   1.5s\n",
      "[CV 1/5] END bootstrap=False, max_features=sqrt, min_samples_leaf=5, min_samples_split=14, n_estimators=80;, score=(train=0.845, test=0.844) total time=   1.8s\n",
      "[CV 2/5] END bootstrap=False, max_features=sqrt, min_samples_leaf=5, min_samples_split=14, n_estimators=80;, score=(train=0.843, test=0.845) total time=   1.6s\n",
      "[CV 3/5] END bootstrap=False, max_features=sqrt, min_samples_leaf=5, min_samples_split=14, n_estimators=80;, score=(train=0.844, test=0.840) total time=   1.6s\n",
      "[CV 4/5] END bootstrap=False, max_features=sqrt, min_samples_leaf=5, min_samples_split=14, n_estimators=80;, score=(train=0.848, test=0.845) total time=   1.7s\n",
      "[CV 5/5] END bootstrap=False, max_features=sqrt, min_samples_leaf=5, min_samples_split=14, n_estimators=80;, score=(train=0.844, test=0.844) total time=   1.6s\n",
      "[CV 1/5] END bootstrap=False, max_features=sqrt, min_samples_leaf=5, min_samples_split=16, n_estimators=20;, score=(train=0.839, test=0.837) total time=   0.3s\n",
      "[CV 2/5] END bootstrap=False, max_features=sqrt, min_samples_leaf=5, min_samples_split=16, n_estimators=20;, score=(train=0.836, test=0.839) total time=   0.3s\n",
      "[CV 3/5] END bootstrap=False, max_features=sqrt, min_samples_leaf=5, min_samples_split=16, n_estimators=20;, score=(train=0.829, test=0.823) total time=   0.3s\n",
      "[CV 4/5] END bootstrap=False, max_features=sqrt, min_samples_leaf=5, min_samples_split=16, n_estimators=20;, score=(train=0.832, test=0.828) total time=   0.3s\n",
      "[CV 5/5] END bootstrap=False, max_features=sqrt, min_samples_leaf=5, min_samples_split=16, n_estimators=20;, score=(train=0.829, test=0.834) total time=   0.4s\n",
      "[CV 1/5] END bootstrap=False, max_features=sqrt, min_samples_leaf=5, min_samples_split=16, n_estimators=30;, score=(train=0.854, test=0.851) total time=   0.6s\n",
      "[CV 2/5] END bootstrap=False, max_features=sqrt, min_samples_leaf=5, min_samples_split=16, n_estimators=30;, score=(train=0.850, test=0.853) total time=   0.5s\n",
      "[CV 3/5] END bootstrap=False, max_features=sqrt, min_samples_leaf=5, min_samples_split=16, n_estimators=30;, score=(train=0.849, test=0.845) total time=   0.5s\n",
      "[CV 4/5] END bootstrap=False, max_features=sqrt, min_samples_leaf=5, min_samples_split=16, n_estimators=30;, score=(train=0.852, test=0.848) total time=   0.6s\n",
      "[CV 5/5] END bootstrap=False, max_features=sqrt, min_samples_leaf=5, min_samples_split=16, n_estimators=30;, score=(train=0.849, test=0.852) total time=   0.6s\n",
      "[CV 1/5] END bootstrap=False, max_features=sqrt, min_samples_leaf=5, min_samples_split=16, n_estimators=40;, score=(train=0.850, test=0.850) total time=   0.8s\n",
      "[CV 2/5] END bootstrap=False, max_features=sqrt, min_samples_leaf=5, min_samples_split=16, n_estimators=40;, score=(train=0.847, test=0.851) total time=   0.7s\n",
      "[CV 3/5] END bootstrap=False, max_features=sqrt, min_samples_leaf=5, min_samples_split=16, n_estimators=40;, score=(train=0.850, test=0.844) total time=   0.8s\n",
      "[CV 4/5] END bootstrap=False, max_features=sqrt, min_samples_leaf=5, min_samples_split=16, n_estimators=40;, score=(train=0.852, test=0.849) total time=   0.8s\n",
      "[CV 5/5] END bootstrap=False, max_features=sqrt, min_samples_leaf=5, min_samples_split=16, n_estimators=40;, score=(train=0.848, test=0.849) total time=   0.7s\n",
      "[CV 1/5] END bootstrap=False, max_features=sqrt, min_samples_leaf=5, min_samples_split=16, n_estimators=50;, score=(train=0.849, test=0.846) total time=   0.9s\n",
      "[CV 2/5] END bootstrap=False, max_features=sqrt, min_samples_leaf=5, min_samples_split=16, n_estimators=50;, score=(train=0.844, test=0.846) total time=   1.0s\n",
      "[CV 3/5] END bootstrap=False, max_features=sqrt, min_samples_leaf=5, min_samples_split=16, n_estimators=50;, score=(train=0.848, test=0.841) total time=   0.9s\n",
      "[CV 4/5] END bootstrap=False, max_features=sqrt, min_samples_leaf=5, min_samples_split=16, n_estimators=50;, score=(train=0.849, test=0.849) total time=   1.1s\n",
      "[CV 5/5] END bootstrap=False, max_features=sqrt, min_samples_leaf=5, min_samples_split=16, n_estimators=50;, score=(train=0.846, test=0.847) total time=   1.1s\n",
      "[CV 1/5] END bootstrap=False, max_features=sqrt, min_samples_leaf=5, min_samples_split=16, n_estimators=60;, score=(train=0.845, test=0.845) total time=   1.6s\n",
      "[CV 2/5] END bootstrap=False, max_features=sqrt, min_samples_leaf=5, min_samples_split=16, n_estimators=60;, score=(train=0.843, test=0.844) total time=   1.5s\n",
      "[CV 3/5] END bootstrap=False, max_features=sqrt, min_samples_leaf=5, min_samples_split=16, n_estimators=60;, score=(train=0.846, test=0.841) total time=   1.4s\n",
      "[CV 4/5] END bootstrap=False, max_features=sqrt, min_samples_leaf=5, min_samples_split=16, n_estimators=60;, score=(train=0.849, test=0.846) total time=   1.4s\n",
      "[CV 5/5] END bootstrap=False, max_features=sqrt, min_samples_leaf=5, min_samples_split=16, n_estimators=60;, score=(train=0.844, test=0.846) total time=   1.3s\n",
      "[CV 1/5] END bootstrap=False, max_features=sqrt, min_samples_leaf=5, min_samples_split=16, n_estimators=70;, score=(train=0.845, test=0.844) total time=   1.3s\n",
      "[CV 2/5] END bootstrap=False, max_features=sqrt, min_samples_leaf=5, min_samples_split=16, n_estimators=70;, score=(train=0.842, test=0.842) total time=   1.6s\n",
      "[CV 3/5] END bootstrap=False, max_features=sqrt, min_samples_leaf=5, min_samples_split=16, n_estimators=70;, score=(train=0.845, test=0.840) total time=   1.3s\n",
      "[CV 4/5] END bootstrap=False, max_features=sqrt, min_samples_leaf=5, min_samples_split=16, n_estimators=70;, score=(train=0.848, test=0.846) total time=   1.4s\n",
      "[CV 5/5] END bootstrap=False, max_features=sqrt, min_samples_leaf=5, min_samples_split=16, n_estimators=70;, score=(train=0.843, test=0.843) total time=   1.4s\n",
      "[CV 1/5] END bootstrap=False, max_features=sqrt, min_samples_leaf=5, min_samples_split=16, n_estimators=80;, score=(train=0.845, test=0.844) total time=   1.7s\n",
      "[CV 2/5] END bootstrap=False, max_features=sqrt, min_samples_leaf=5, min_samples_split=16, n_estimators=80;, score=(train=0.843, test=0.845) total time=   2.0s\n",
      "[CV 3/5] END bootstrap=False, max_features=sqrt, min_samples_leaf=5, min_samples_split=16, n_estimators=80;, score=(train=0.844, test=0.840) total time=   2.0s\n",
      "[CV 4/5] END bootstrap=False, max_features=sqrt, min_samples_leaf=5, min_samples_split=16, n_estimators=80;, score=(train=0.848, test=0.845) total time=   1.5s\n",
      "[CV 5/5] END bootstrap=False, max_features=sqrt, min_samples_leaf=5, min_samples_split=16, n_estimators=80;, score=(train=0.844, test=0.844) total time=   1.6s\n",
      "[CV 1/5] END bootstrap=False, max_features=sqrt, min_samples_leaf=5, min_samples_split=18, n_estimators=20;, score=(train=0.839, test=0.837) total time=   0.3s\n",
      "[CV 2/5] END bootstrap=False, max_features=sqrt, min_samples_leaf=5, min_samples_split=18, n_estimators=20;, score=(train=0.836, test=0.839) total time=   0.3s\n",
      "[CV 3/5] END bootstrap=False, max_features=sqrt, min_samples_leaf=5, min_samples_split=18, n_estimators=20;, score=(train=0.829, test=0.823) total time=   0.3s\n",
      "[CV 4/5] END bootstrap=False, max_features=sqrt, min_samples_leaf=5, min_samples_split=18, n_estimators=20;, score=(train=0.832, test=0.828) total time=   0.4s\n",
      "[CV 5/5] END bootstrap=False, max_features=sqrt, min_samples_leaf=5, min_samples_split=18, n_estimators=20;, score=(train=0.829, test=0.834) total time=   0.3s\n",
      "[CV 1/5] END bootstrap=False, max_features=sqrt, min_samples_leaf=5, min_samples_split=18, n_estimators=30;, score=(train=0.854, test=0.851) total time=   0.5s\n",
      "[CV 2/5] END bootstrap=False, max_features=sqrt, min_samples_leaf=5, min_samples_split=18, n_estimators=30;, score=(train=0.850, test=0.853) total time=   0.5s\n",
      "[CV 3/5] END bootstrap=False, max_features=sqrt, min_samples_leaf=5, min_samples_split=18, n_estimators=30;, score=(train=0.849, test=0.845) total time=   0.5s\n",
      "[CV 4/5] END bootstrap=False, max_features=sqrt, min_samples_leaf=5, min_samples_split=18, n_estimators=30;, score=(train=0.852, test=0.848) total time=   0.5s\n",
      "[CV 5/5] END bootstrap=False, max_features=sqrt, min_samples_leaf=5, min_samples_split=18, n_estimators=30;, score=(train=0.849, test=0.852) total time=   0.6s\n",
      "[CV 1/5] END bootstrap=False, max_features=sqrt, min_samples_leaf=5, min_samples_split=18, n_estimators=40;, score=(train=0.850, test=0.850) total time=   0.7s\n",
      "[CV 2/5] END bootstrap=False, max_features=sqrt, min_samples_leaf=5, min_samples_split=18, n_estimators=40;, score=(train=0.847, test=0.851) total time=   0.7s\n",
      "[CV 3/5] END bootstrap=False, max_features=sqrt, min_samples_leaf=5, min_samples_split=18, n_estimators=40;, score=(train=0.850, test=0.844) total time=   0.7s\n",
      "[CV 4/5] END bootstrap=False, max_features=sqrt, min_samples_leaf=5, min_samples_split=18, n_estimators=40;, score=(train=0.852, test=0.849) total time=   0.8s\n",
      "[CV 5/5] END bootstrap=False, max_features=sqrt, min_samples_leaf=5, min_samples_split=18, n_estimators=40;, score=(train=0.848, test=0.849) total time=   0.7s\n",
      "[CV 1/5] END bootstrap=False, max_features=sqrt, min_samples_leaf=5, min_samples_split=18, n_estimators=50;, score=(train=0.849, test=0.846) total time=   1.0s\n",
      "[CV 2/5] END bootstrap=False, max_features=sqrt, min_samples_leaf=5, min_samples_split=18, n_estimators=50;, score=(train=0.844, test=0.846) total time=   0.9s\n",
      "[CV 3/5] END bootstrap=False, max_features=sqrt, min_samples_leaf=5, min_samples_split=18, n_estimators=50;, score=(train=0.848, test=0.841) total time=   1.1s\n",
      "[CV 4/5] END bootstrap=False, max_features=sqrt, min_samples_leaf=5, min_samples_split=18, n_estimators=50;, score=(train=0.849, test=0.849) total time=   0.9s\n",
      "[CV 5/5] END bootstrap=False, max_features=sqrt, min_samples_leaf=5, min_samples_split=18, n_estimators=50;, score=(train=0.846, test=0.847) total time=   1.0s\n",
      "[CV 1/5] END bootstrap=False, max_features=sqrt, min_samples_leaf=5, min_samples_split=18, n_estimators=60;, score=(train=0.845, test=0.845) total time=   1.1s\n",
      "[CV 2/5] END bootstrap=False, max_features=sqrt, min_samples_leaf=5, min_samples_split=18, n_estimators=60;, score=(train=0.843, test=0.844) total time=   1.2s\n",
      "[CV 3/5] END bootstrap=False, max_features=sqrt, min_samples_leaf=5, min_samples_split=18, n_estimators=60;, score=(train=0.846, test=0.841) total time=   1.2s\n",
      "[CV 4/5] END bootstrap=False, max_features=sqrt, min_samples_leaf=5, min_samples_split=18, n_estimators=60;, score=(train=0.849, test=0.846) total time=   1.2s\n",
      "[CV 5/5] END bootstrap=False, max_features=sqrt, min_samples_leaf=5, min_samples_split=18, n_estimators=60;, score=(train=0.844, test=0.846) total time=   1.1s\n",
      "[CV 1/5] END bootstrap=False, max_features=sqrt, min_samples_leaf=5, min_samples_split=18, n_estimators=70;, score=(train=0.845, test=0.844) total time=   1.4s\n",
      "[CV 2/5] END bootstrap=False, max_features=sqrt, min_samples_leaf=5, min_samples_split=18, n_estimators=70;, score=(train=0.842, test=0.842) total time=   1.5s\n",
      "[CV 3/5] END bootstrap=False, max_features=sqrt, min_samples_leaf=5, min_samples_split=18, n_estimators=70;, score=(train=0.845, test=0.840) total time=   1.4s\n",
      "[CV 4/5] END bootstrap=False, max_features=sqrt, min_samples_leaf=5, min_samples_split=18, n_estimators=70;, score=(train=0.848, test=0.846) total time=   1.5s\n",
      "[CV 5/5] END bootstrap=False, max_features=sqrt, min_samples_leaf=5, min_samples_split=18, n_estimators=70;, score=(train=0.843, test=0.843) total time=   1.4s\n",
      "[CV 1/5] END bootstrap=False, max_features=sqrt, min_samples_leaf=5, min_samples_split=18, n_estimators=80;, score=(train=0.845, test=0.844) total time=   1.8s\n",
      "[CV 2/5] END bootstrap=False, max_features=sqrt, min_samples_leaf=5, min_samples_split=18, n_estimators=80;, score=(train=0.843, test=0.845) total time=   1.6s\n",
      "[CV 3/5] END bootstrap=False, max_features=sqrt, min_samples_leaf=5, min_samples_split=18, n_estimators=80;, score=(train=0.844, test=0.840) total time=   1.6s\n",
      "[CV 4/5] END bootstrap=False, max_features=sqrt, min_samples_leaf=5, min_samples_split=18, n_estimators=80;, score=(train=0.848, test=0.845) total time=   1.8s\n",
      "[CV 5/5] END bootstrap=False, max_features=sqrt, min_samples_leaf=5, min_samples_split=18, n_estimators=80;, score=(train=0.844, test=0.844) total time=   2.0s\n",
      "[CV 1/5] END bootstrap=False, max_features=sqrt, min_samples_leaf=5, min_samples_split=20, n_estimators=20;, score=(train=0.839, test=0.837) total time=   0.4s\n",
      "[CV 2/5] END bootstrap=False, max_features=sqrt, min_samples_leaf=5, min_samples_split=20, n_estimators=20;, score=(train=0.836, test=0.839) total time=   0.4s\n",
      "[CV 3/5] END bootstrap=False, max_features=sqrt, min_samples_leaf=5, min_samples_split=20, n_estimators=20;, score=(train=0.829, test=0.823) total time=   0.4s\n",
      "[CV 4/5] END bootstrap=False, max_features=sqrt, min_samples_leaf=5, min_samples_split=20, n_estimators=20;, score=(train=0.832, test=0.828) total time=   0.4s\n",
      "[CV 5/5] END bootstrap=False, max_features=sqrt, min_samples_leaf=5, min_samples_split=20, n_estimators=20;, score=(train=0.829, test=0.834) total time=   0.4s\n",
      "[CV 1/5] END bootstrap=False, max_features=sqrt, min_samples_leaf=5, min_samples_split=20, n_estimators=30;, score=(train=0.854, test=0.851) total time=   0.6s\n",
      "[CV 2/5] END bootstrap=False, max_features=sqrt, min_samples_leaf=5, min_samples_split=20, n_estimators=30;, score=(train=0.850, test=0.853) total time=   0.7s\n",
      "[CV 3/5] END bootstrap=False, max_features=sqrt, min_samples_leaf=5, min_samples_split=20, n_estimators=30;, score=(train=0.849, test=0.845) total time=   0.6s\n",
      "[CV 4/5] END bootstrap=False, max_features=sqrt, min_samples_leaf=5, min_samples_split=20, n_estimators=30;, score=(train=0.852, test=0.848) total time=   0.5s\n",
      "[CV 5/5] END bootstrap=False, max_features=sqrt, min_samples_leaf=5, min_samples_split=20, n_estimators=30;, score=(train=0.849, test=0.852) total time=   0.5s\n",
      "[CV 1/5] END bootstrap=False, max_features=sqrt, min_samples_leaf=5, min_samples_split=20, n_estimators=40;, score=(train=0.850, test=0.850) total time=   0.9s\n",
      "[CV 2/5] END bootstrap=False, max_features=sqrt, min_samples_leaf=5, min_samples_split=20, n_estimators=40;, score=(train=0.847, test=0.851) total time=   0.8s\n",
      "[CV 3/5] END bootstrap=False, max_features=sqrt, min_samples_leaf=5, min_samples_split=20, n_estimators=40;, score=(train=0.850, test=0.844) total time=   0.8s\n",
      "[CV 4/5] END bootstrap=False, max_features=sqrt, min_samples_leaf=5, min_samples_split=20, n_estimators=40;, score=(train=0.852, test=0.849) total time=   0.8s\n",
      "[CV 5/5] END bootstrap=False, max_features=sqrt, min_samples_leaf=5, min_samples_split=20, n_estimators=40;, score=(train=0.848, test=0.849) total time=   0.8s\n",
      "[CV 1/5] END bootstrap=False, max_features=sqrt, min_samples_leaf=5, min_samples_split=20, n_estimators=50;, score=(train=0.849, test=0.846) total time=   1.0s\n",
      "[CV 2/5] END bootstrap=False, max_features=sqrt, min_samples_leaf=5, min_samples_split=20, n_estimators=50;, score=(train=0.844, test=0.846) total time=   1.1s\n",
      "[CV 3/5] END bootstrap=False, max_features=sqrt, min_samples_leaf=5, min_samples_split=20, n_estimators=50;, score=(train=0.848, test=0.841) total time=   1.0s\n",
      "[CV 4/5] END bootstrap=False, max_features=sqrt, min_samples_leaf=5, min_samples_split=20, n_estimators=50;, score=(train=0.849, test=0.849) total time=   1.1s\n",
      "[CV 5/5] END bootstrap=False, max_features=sqrt, min_samples_leaf=5, min_samples_split=20, n_estimators=50;, score=(train=0.846, test=0.847) total time=   1.0s\n",
      "[CV 1/5] END bootstrap=False, max_features=sqrt, min_samples_leaf=5, min_samples_split=20, n_estimators=60;, score=(train=0.845, test=0.845) total time=   1.3s\n",
      "[CV 2/5] END bootstrap=False, max_features=sqrt, min_samples_leaf=5, min_samples_split=20, n_estimators=60;, score=(train=0.843, test=0.844) total time=   1.2s\n",
      "[CV 3/5] END bootstrap=False, max_features=sqrt, min_samples_leaf=5, min_samples_split=20, n_estimators=60;, score=(train=0.846, test=0.841) total time=   1.2s\n",
      "[CV 4/5] END bootstrap=False, max_features=sqrt, min_samples_leaf=5, min_samples_split=20, n_estimators=60;, score=(train=0.849, test=0.846) total time=   1.2s\n",
      "[CV 5/5] END bootstrap=False, max_features=sqrt, min_samples_leaf=5, min_samples_split=20, n_estimators=60;, score=(train=0.844, test=0.846) total time=   1.3s\n",
      "[CV 1/5] END bootstrap=False, max_features=sqrt, min_samples_leaf=5, min_samples_split=20, n_estimators=70;, score=(train=0.845, test=0.844) total time=   1.4s\n",
      "[CV 2/5] END bootstrap=False, max_features=sqrt, min_samples_leaf=5, min_samples_split=20, n_estimators=70;, score=(train=0.842, test=0.842) total time=   1.4s\n",
      "[CV 3/5] END bootstrap=False, max_features=sqrt, min_samples_leaf=5, min_samples_split=20, n_estimators=70;, score=(train=0.845, test=0.840) total time=   1.5s\n",
      "[CV 4/5] END bootstrap=False, max_features=sqrt, min_samples_leaf=5, min_samples_split=20, n_estimators=70;, score=(train=0.848, test=0.846) total time=   1.5s\n",
      "[CV 5/5] END bootstrap=False, max_features=sqrt, min_samples_leaf=5, min_samples_split=20, n_estimators=70;, score=(train=0.843, test=0.843) total time=   1.5s\n",
      "[CV 1/5] END bootstrap=False, max_features=sqrt, min_samples_leaf=5, min_samples_split=20, n_estimators=80;, score=(train=0.845, test=0.844) total time=   1.7s\n",
      "[CV 2/5] END bootstrap=False, max_features=sqrt, min_samples_leaf=5, min_samples_split=20, n_estimators=80;, score=(train=0.843, test=0.845) total time=   1.7s\n",
      "[CV 3/5] END bootstrap=False, max_features=sqrt, min_samples_leaf=5, min_samples_split=20, n_estimators=80;, score=(train=0.844, test=0.840) total time=   1.7s\n",
      "[CV 4/5] END bootstrap=False, max_features=sqrt, min_samples_leaf=5, min_samples_split=20, n_estimators=80;, score=(train=0.848, test=0.845) total time=   1.6s\n",
      "[CV 5/5] END bootstrap=False, max_features=sqrt, min_samples_leaf=5, min_samples_split=20, n_estimators=80;, score=(train=0.844, test=0.844) total time=   1.7s\n",
      "Best Hyperparameters:  {'bootstrap': False, 'max_features': 'log2', 'min_samples_leaf': 5, 'min_samples_split': 12, 'n_estimators': 30}\n",
      "Best Score:  0.8497636963635216\n",
      "CPU times: total: 4min 19s\n",
      "Wall time: 7min 51s\n"
     ]
    }
   ],
   "source": [
    "%%time\n",
    "grid_search_rf.fit(X_data, y_data)\n",
    "\n",
    "# Print the best hyperparameters and corresponding score\n",
    "print(\"Best Hyperparameters: \", grid_search_rf.best_params_)\n",
    "print(\"Best Score: \", grid_search_rf.best_score_)"
   ]
  },
  {
   "cell_type": "code",
   "execution_count": 23,
   "id": "f1b69ec7",
   "metadata": {},
   "outputs": [],
   "source": [
    "final_model_rf = RandomForestClassifier(n_estimators=30,\n",
    "                                        min_samples_leaf = 5, \n",
    "                                        min_samples_split = 12,\n",
    "                                        max_features= 'log2', \n",
    "                                        bootstrap= False, \n",
    "                                        random_state = 99)"
   ]
  },
  {
   "cell_type": "markdown",
   "id": "4b8459f9",
   "metadata": {},
   "source": [
    "<div class=\"alert alert-block alert-info\">\n",
    "    \n",
    "<a class=\"anchor\" id=\"26th-bullet\">\n",
    "\n",
    "### 4.2.5. Gardient Boosting\n",
    "    \n",
    "</a>\n",
    "    \n",
    "<b>class sklearn.ensemble.GradientBoostingClassifier(*, loss='log_loss', learning_rate=0.1, n_estimators=100, subsample=1.0, criterion='friedman_mse', min_samples_split=2, min_samples_leaf=1, min_weight_fraction_leaf=0.0, max_depth=3, min_impurity_decrease=0.0, init=None, random_state=None, max_features=None, verbose=0, max_leaf_nodes=None, warm_start=False, validation_fraction=0.1, n_iter_no_change=None, tol=0.0001, ccp_alpha=0.0)\n",
    "</div>"
   ]
  },
  {
   "cell_type": "code",
   "execution_count": 27,
   "id": "4454a1d5",
   "metadata": {},
   "outputs": [],
   "source": [
    "def get_models_gb_max_depth(data, values):\n",
    "    models = dict()\n",
    "    results_train, results_val, names = [],[],[]\n",
    "\n",
    "    # create the instances of each model with different values\n",
    "    for value in values:\n",
    "        models[str(value)] = GradientBoostingClassifier(max_depth = value)\n",
    "\n",
    "    for name, model in models.items():\n",
    "        avg_train, std_train, avg_val, std_val = select_best_models(data, model)\n",
    "        results_train.append(avg_train)\n",
    "        results_val.append(avg_val)\n",
    "        names.append(name)\n",
    "\n",
    "    return results_train, results_val, names"
   ]
  },
  {
   "cell_type": "code",
   "execution_count": null,
   "id": "0d66ac21",
   "metadata": {},
   "outputs": [
    {
     "name": "stdout",
     "output_type": "stream",
     "text": [
      "CPU times: total: 40min 39s\n",
      "Wall time: 44min 42s\n"
     ]
    },
    {
     "data": {
      "image/png": "[encoded data removed]",
      "text/plain": [
       "<Figure size 640x480 with 1 Axes>"
      ]
     },
     "metadata": {},
     "output_type": "display_data"
    }
   ],
   "source": [
    "%%time\n",
    "values_try = [1, 3, 5,15,20,40]\n",
    "results_train, results_val, names = get_models_gb_max_depth(keep_data, values_try)\n",
    "point_plot(results_train, results_val, names)"
   ]
  },
  {
   "cell_type": "markdown",
   "id": "8f44f9d5",
   "metadata": {},
   "source": [
    "<a class=\"anchor\" id=\"31st-bullet\">\n",
    "\n",
    "#### 4.2.7.3. Gradient Boosting - Random Search\n",
    "    \n",
    "</a>"
   ]
  },
  {
   "cell_type": "code",
   "execution_count": 19,
   "id": "08f2801b",
   "metadata": {},
   "outputs": [],
   "source": [
    "gb = GradientBoostingClassifier(max_depth = 5, random_state = 99)"
   ]
  },
  {
   "cell_type": "code",
   "execution_count": 29,
   "id": "84ff51a6",
   "metadata": {},
   "outputs": [],
   "source": [
    "parameter_space_random_gb = {\n",
    "    'learning_rate': [0.01, 0.05, 0.1, 0.15, 0.20, 0.25, 0.3],\n",
    "    'n_estimators' : [11,100,150,200,250,300,350,500,750,1000],\n",
    "    'min_samples_split' : [2,10,20,100,200,300],\n",
    "    'min_samples_leaf' : [1,5,10,50,100,200,300],\n",
    "    'max_features' : list(range(1,20)),\n",
    "    'max_depth': [3,4,5,6,7]\n",
    "}"
   ]
  },
  {
   "cell_type": "code",
   "execution_count": 30,
   "id": "0dc5f4ac",
   "metadata": {},
   "outputs": [],
   "source": [
    "random_search_gb = RandomizedSearchCV(gb, param_distributions=parameter_space_random_gb,\n",
    "                                   scoring = 'f1', cv=5, random_state = 99)"
   ]
  },
  {
   "cell_type": "code",
   "execution_count": 31,
   "id": "39629957",
   "metadata": {},
   "outputs": [
    {
     "name": "stdout",
     "output_type": "stream",
     "text": [
      "Best Hyperparameters:  {'n_estimators': 500, 'min_samples_split': 2, 'min_samples_leaf': 5, 'max_features': 19, 'max_depth': 5, 'learning_rate': 0.01}\n",
      "Best Score:  0.8265054819921811\n",
      "CPU times: total: 28min 2s\n",
      "Wall time: 35min 45s\n"
     ]
    }
   ],
   "source": [
    "%%time\n",
    "random_search_gb.fit(X_data, y_data)\n",
    "\n",
    "# Print the best hyperparameters and corresponding score\n",
    "print(\"Best Hyperparameters: \", random_search_gb.best_params_)\n",
    "print(\"Best Score: \", random_search_gb.best_score_)"
   ]
  },
  {
   "cell_type": "markdown",
   "id": "544776ab",
   "metadata": {},
   "source": [
    "<a class=\"anchor\" id=\"36th-bullet\">\n",
    "\n",
    "#### 4.2.8.3. Gradient Booster - Grid Search\n",
    "    \n",
    "</a>"
   ]
  },
  {
   "cell_type": "code",
   "execution_count": 32,
   "id": "59eaa61e",
   "metadata": {},
   "outputs": [],
   "source": [
    "parameter_space_grid_gb = {\n",
    "  'n_estimators': [500],\n",
    "  'min_samples_split': [2],\n",
    "  'min_samples_leaf': [50],\n",
    "  'max_features': [19],\n",
    "  'max_depth': [5], \n",
    "  'learning_rate': [0.005,0.01,0.1, 0.15, 0.2]}"
   ]
  },
  {
   "cell_type": "code",
   "execution_count": 33,
   "id": "944c46a6",
   "metadata": {},
   "outputs": [],
   "source": [
    "grid_search_gb = GridSearchCV(gb, parameter_space_grid_gb, scoring = 'f1', return_train_score = True, cv = 5, verbose=3)"
   ]
  },
  {
   "cell_type": "code",
   "execution_count": 34,
   "id": "512fe945",
   "metadata": {},
   "outputs": [
    {
     "name": "stdout",
     "output_type": "stream",
     "text": [
      "Fitting 5 folds for each of 5 candidates, totalling 25 fits\n",
      "[CV 1/5] END learning_rate=0.005, max_depth=5, max_features=19, min_samples_leaf=50, min_samples_split=2, n_estimators=500;, score=(train=0.914, test=0.830) total time= 1.5min\n",
      "[CV 2/5] END learning_rate=0.005, max_depth=5, max_features=19, min_samples_leaf=50, min_samples_split=2, n_estimators=500;, score=(train=0.896, test=0.862) total time= 1.3min\n",
      "[CV 3/5] END learning_rate=0.005, max_depth=5, max_features=19, min_samples_leaf=50, min_samples_split=2, n_estimators=500;, score=(train=0.892, test=0.852) total time= 1.3min\n",
      "[CV 4/5] END learning_rate=0.005, max_depth=5, max_features=19, min_samples_leaf=50, min_samples_split=2, n_estimators=500;, score=(train=0.909, test=0.767) total time= 1.3min\n",
      "[CV 5/5] END learning_rate=0.005, max_depth=5, max_features=19, min_samples_leaf=50, min_samples_split=2, n_estimators=500;, score=(train=0.911, test=0.804) total time= 1.3min\n",
      "[CV 1/5] END learning_rate=0.01, max_depth=5, max_features=19, min_samples_leaf=50, min_samples_split=2, n_estimators=500;, score=(train=0.951, test=0.776) total time= 1.6min\n",
      "[CV 2/5] END learning_rate=0.01, max_depth=5, max_features=19, min_samples_leaf=50, min_samples_split=2, n_estimators=500;, score=(train=0.920, test=0.895) total time= 1.6min\n",
      "[CV 3/5] END learning_rate=0.01, max_depth=5, max_features=19, min_samples_leaf=50, min_samples_split=2, n_estimators=500;, score=(train=0.917, test=0.871) total time= 1.5min\n",
      "[CV 4/5] END learning_rate=0.01, max_depth=5, max_features=19, min_samples_leaf=50, min_samples_split=2, n_estimators=500;, score=(train=0.930, test=0.789) total time= 1.5min\n",
      "[CV 5/5] END learning_rate=0.01, max_depth=5, max_features=19, min_samples_leaf=50, min_samples_split=2, n_estimators=500;, score=(train=0.936, test=0.810) total time= 1.5min\n",
      "[CV 1/5] END learning_rate=0.1, max_depth=5, max_features=19, min_samples_leaf=50, min_samples_split=2, n_estimators=500;, score=(train=0.999, test=0.526) total time= 1.4min\n",
      "[CV 2/5] END learning_rate=0.1, max_depth=5, max_features=19, min_samples_leaf=50, min_samples_split=2, n_estimators=500;, score=(train=0.958, test=0.886) total time= 1.3min\n",
      "[CV 3/5] END learning_rate=0.1, max_depth=5, max_features=19, min_samples_leaf=50, min_samples_split=2, n_estimators=500;, score=(train=0.960, test=0.877) total time= 1.3min\n",
      "[CV 4/5] END learning_rate=0.1, max_depth=5, max_features=19, min_samples_leaf=50, min_samples_split=2, n_estimators=500;, score=(train=0.963, test=0.798) total time= 1.3min\n",
      "[CV 5/5] END learning_rate=0.1, max_depth=5, max_features=19, min_samples_leaf=50, min_samples_split=2, n_estimators=500;, score=(train=0.976, test=0.721) total time= 1.3min\n",
      "[CV 1/5] END learning_rate=0.15, max_depth=5, max_features=19, min_samples_leaf=50, min_samples_split=2, n_estimators=500;, score=(train=1.000, test=0.521) total time= 1.4min\n",
      "[CV 2/5] END learning_rate=0.15, max_depth=5, max_features=19, min_samples_leaf=50, min_samples_split=2, n_estimators=500;, score=(train=0.965, test=0.886) total time= 1.3min\n",
      "[CV 3/5] END learning_rate=0.15, max_depth=5, max_features=19, min_samples_leaf=50, min_samples_split=2, n_estimators=500;, score=(train=0.965, test=0.868) total time= 1.3min\n",
      "[CV 4/5] END learning_rate=0.15, max_depth=5, max_features=19, min_samples_leaf=50, min_samples_split=2, n_estimators=500;, score=(train=0.969, test=0.788) total time= 1.3min\n",
      "[CV 5/5] END learning_rate=0.15, max_depth=5, max_features=19, min_samples_leaf=50, min_samples_split=2, n_estimators=500;, score=(train=0.981, test=0.717) total time= 1.3min\n",
      "[CV 1/5] END learning_rate=0.2, max_depth=5, max_features=19, min_samples_leaf=50, min_samples_split=2, n_estimators=500;, score=(train=1.000, test=0.520) total time= 1.4min\n",
      "[CV 2/5] END learning_rate=0.2, max_depth=5, max_features=19, min_samples_leaf=50, min_samples_split=2, n_estimators=500;, score=(train=0.971, test=0.877) total time= 1.3min\n",
      "[CV 3/5] END learning_rate=0.2, max_depth=5, max_features=19, min_samples_leaf=50, min_samples_split=2, n_estimators=500;, score=(train=0.971, test=0.875) total time= 1.3min\n",
      "[CV 4/5] END learning_rate=0.2, max_depth=5, max_features=19, min_samples_leaf=50, min_samples_split=2, n_estimators=500;, score=(train=0.974, test=0.789) total time= 1.3min\n",
      "[CV 5/5] END learning_rate=0.2, max_depth=5, max_features=19, min_samples_leaf=50, min_samples_split=2, n_estimators=500;, score=(train=0.985, test=0.713) total time= 1.3min\n",
      "Best Hyperparameters:  {'learning_rate': 0.01, 'max_depth': 5, 'max_features': 19, 'min_samples_leaf': 50, 'min_samples_split': 2, 'n_estimators': 500}\n",
      "Best Score:  0.828141362673233\n",
      "CPU times: total: 34min 30s\n",
      "Wall time: 35min 45s\n"
     ]
    }
   ],
   "source": [
    "%%time\n",
    "grid_search_gb.fit(X_data, y_data)\n",
    "\n",
    "# Print the best hyperparameters and corresponding score\n",
    "print(\"Best Hyperparameters: \", grid_search_gb.best_params_)\n",
    "print(\"Best Score: \", grid_search_gb.best_score_)"
   ]
  },
  {
   "cell_type": "code",
   "execution_count": 24,
   "id": "2ae34cb3",
   "metadata": {},
   "outputs": [],
   "source": [
    "final_model_gb = GradientBoostingClassifier(learning_rate = 0.01,\n",
    "                                            max_depth = 5,\n",
    "                                            max_features = 19, \n",
    "                                            min_samples_leaf = 50,\n",
    "                                            min_samples_split = 2,\n",
    "                                            n_estimators = 500,\n",
    "                                            random_state = 99)"
   ]
  },
  {
   "cell_type": "markdown",
   "metadata": {},
   "source": [
    "<div class=\"alert alert-block alert-info\">\n",
    "    \n",
    "<a class=\"anchor\" id=\"27th-bullet\">\n",
    "\n",
    "### 4.2.6. Support Vector Classification\n",
    "    \n",
    "</a>\n",
    "    \n",
    "<b>class sklearn.svm.SVC(*, C=1.0, kernel='rbf', degree=3, gamma='scale', coef0=0.0, shrinking=True, probability=False, tol=0.001, cache_size=200, class_weight=None, verbose=False, max_iter=-1, decision_function_shape='ovr', break_ties=False, random_state=None)</div>\n"
   ]
  },
  {
   "cell_type": "code",
   "execution_count": 35,
   "metadata": {},
   "outputs": [],
   "source": [
    "def get_models_svc_c(data, values):\n",
    "    models = dict()\n",
    "    results_train, results_val, names = [],[],[]\n",
    "\n",
    "    # create the instances of each model with different values\n",
    "    for value in values:\n",
    "        models[str(value)] = SVC(C = value)\n",
    "\n",
    "    for name, model in models.items():\n",
    "        avg_train, std_train, avg_val, std_val = select_best_models(data, model)\n",
    "        results_train.append(avg_train)\n",
    "        results_val.append(avg_val)\n",
    "        names.append(name)\n",
    "\n",
    "    return results_train, results_val, names"
   ]
  },
  {
   "cell_type": "code",
   "execution_count": null,
   "id": "d22ba458",
   "metadata": {},
   "outputs": [
    {
     "name": "stdout",
     "output_type": "stream",
     "text": [
      "CPU times: total: 1h 25min 34s\n",
      "Wall time: 1h 38min 23s\n"
     ]
    },
    {
     "data": {
      "image/png": "[encoded data removed]",
      "text/plain": [
       "<Figure size 640x480 with 1 Axes>"
      ]
     },
     "metadata": {},
     "output_type": "display_data"
    }
   ],
   "source": [
    "%%time\n",
    "values_try = [0.1, 1, 10]\n",
    "results_train, results_val, names = get_models_svc_c(keep_data, values_try)\n",
    "point_plot(results_train, results_val, names)"
   ]
  },
  {
   "cell_type": "markdown",
   "id": "7ebd1747",
   "metadata": {},
   "source": [
    "<a class=\"anchor\" id=\"32nd-bullet\">\n",
    "\n",
    "#### 4.2.7.4. Support Vector Classification - Random Search\n",
    "    \n",
    "</a>"
   ]
  },
  {
   "cell_type": "code",
   "execution_count": 36,
   "id": "2c81f48e",
   "metadata": {},
   "outputs": [],
   "source": [
    "svc = SVC(C = 1)"
   ]
  },
  {
   "cell_type": "code",
   "execution_count": null,
   "id": "b0f3ce27",
   "metadata": {},
   "outputs": [],
   "source": [
    "parameter_space_random_svc = {\n",
    "    'C': [0.1, 1, 10],\n",
    "    'kernel': ['linear', 'poly', 'rbf', 'sigmoid'],\n",
    "    'gamma':  [0.1, 1, 'scale', 'auto'],\n",
    "}"
   ]
  },
  {
   "cell_type": "code",
   "execution_count": 38,
   "id": "3fd4a0b8",
   "metadata": {},
   "outputs": [],
   "source": [
    "random_search_svc = RandomizedSearchCV(svc, param_distributions=parameter_space_random_svc,\n",
    "                                   scoring = 'f1', cv=5, random_state = 99)"
   ]
  },
  {
   "cell_type": "code",
   "execution_count": null,
   "id": "aa463c76",
   "metadata": {},
   "outputs": [],
   "source": [
    "%%time\n",
    "random_search_svc.fit(X_data, y_data)\n",
    "\n",
    "# Print the best hyperparameters and corresponding score\n",
    "print(\"Best Hyperparameters: \", random_search_svc.best_params_)\n",
    "print(\"Best Score: \", random_search_svc.best_score_)"
   ]
  },
  {
   "cell_type": "markdown",
   "id": "04402b82",
   "metadata": {},
   "source": [
    "<a class=\"anchor\" id=\"37th-bullet\">\n",
    "\n",
    "#### 4.2.8.4. Support Vector Classification - Grid Search\n",
    "    \n",
    "</a>"
   ]
  },
  {
   "cell_type": "code",
   "execution_count": null,
   "id": "29811868",
   "metadata": {},
   "outputs": [],
   "source": [
    "parameter_space_grid_svc = {\n",
    "    'C': [0.1, 1, 10],\n",
    "    'kernel': ['poly'],\n",
    "    'gamma':  [0.1, 1, 'scale', 'auto'],\n",
    "    'probability' : [True]\n",
    "}"
   ]
  },
  {
   "cell_type": "code",
   "execution_count": null,
   "id": "940a74b2",
   "metadata": {},
   "outputs": [],
   "source": [
    "grid_search_svc = GridSearchCV(svc, parameter_space_grid_svc, scoring = 'f1', return_train_score = True, cv = 5)"
   ]
  },
  {
   "cell_type": "code",
   "execution_count": null,
   "id": "8f4acfb1",
   "metadata": {},
   "outputs": [
    {
     "name": "stdout",
     "output_type": "stream",
     "text": [
      "Best Hyperparameters:  {'C': 10, 'gamma': 'scale', 'kernel': 'poly', 'probability': True}\n",
      "Best Score:  0.9344597698674338\n",
      "CPU times: total: 1h 6min 7s\n",
      "Wall time: 1h 7min 59s\n"
     ]
    }
   ],
   "source": [
    "%%time\n",
    "grid_search_svc.fit(X_data, y_data)\n",
    "\n",
    "# Print the best hyperparameters and corresponding score\n",
    "print(\"Best Hyperparameters: \", grid_search_svc.best_params_)\n",
    "print(\"Best Score: \", grid_search_svc.best_score_)"
   ]
  },
  {
   "cell_type": "code",
   "execution_count": 25,
   "id": "af8cb5e1",
   "metadata": {},
   "outputs": [],
   "source": [
    "final_model_svc = SVC(C= 10,\n",
    "                    kernel = 'poly',\n",
    "                    gamma = 'scale',\n",
    "                    random_state = 99,\n",
    "                    probability = True)"
   ]
  },
  {
   "cell_type": "markdown",
   "id": "2d33a330",
   "metadata": {},
   "source": [
    "<a class=\"anchor\" id=\"28th-bullet\">\n",
    "\n",
    "### 4.2.7. RandomSearch\n",
    "    \n",
    "</a>\n",
    "\n",
    "RandomizedSearchCV is a function provided by Scikit-learn (sklearn) that is used for hyperparameter tuning. While GridSearchCV exhaustively explores all possible combinations of hyperparameters, RandomizedSearchCV randomly samples a specified number of combinations from the parameter grid.\n",
    "\n",
    "The random sampling of parameter combinations makes RandomizedSearchCV more efficient than GridSearchCV for large hyperparameter spaces. It allows you to define the number of iterations to control the search space exploration. RandomizedSearchCV selects the hyperparameter values randomly for each iteration and evaluates them using cross-validation.\n",
    "\n",
    "Similar to GridSearchCV, RandomizedSearchCV returns the best set of hyperparameters based on a specified performance metric. The best hyperparameters can then be used to train a final model on the full dataset for making predictions.\n",
    "\n",
    "RandomizedSearchCV is particularly useful when the hyperparameter search space is large and you want to explore a subset of it efficiently. It is a good choice when you have a limited computational budget or when you want to get a sense of the hyperparameter space before performing a more focused search using GridSearchCV.\n",
    "\n",
    "__NOTE:__ RandomizedSearch do the process of cross validation inside the method itself. In this way, we are going to use the full data set and do all the needed changes and transformations on the data before applying the RandomizedSearch.\n",
    "\n",
    "In theory, the best approach would be doing the needed changes inside the GridSearch, since we know that we want to use only information to fill missing data, scale the data, and so on. However, we are not be able to do this inside GridSearch without the usage of pipelines, which are not approached in this course."
   ]
  },
  {
   "cell_type": "markdown",
   "id": "9fc837d7",
   "metadata": {},
   "source": [
    "__`Step 39`__ Create a copy of all_data named as `data` and define the independent variables as `X_data` and the target as `y_data`. Transform the data as needed by calling the function `encode_data`."
   ]
  },
  {
   "cell_type": "code",
   "execution_count": 29,
   "id": "a4905aa1",
   "metadata": {},
   "outputs": [],
   "source": [
    "#data = keep_data.copy()\n",
    "\n",
    "X_data = X_train_resampled.copy()\n",
    "y_data = y_train_resampled.copy()\n",
    "\n",
    "keep_data = pd.concat([X_data, y_data], axis=1)\n",
    "\n",
    "#X_data = encode_data(X_data)\n",
    "#scaler = MinMaxScaler()\n",
    "#X_data = scaler.fit_transform(X_data)"
   ]
  },
  {
   "cell_type": "markdown",
   "id": "9c358610",
   "metadata": {},
   "source": [
    "__`Step 40`__ Create an instance of each algorithm to test.\n",
    "\n",
    "__`Step 41`__ Define a dictionary named as __parameter_space_random__ and define the the options to be considered during modelling of each algorithm.\n",
    "\n",
    "__`Step 42`__ Create an instance of RandomizedSearchCV named as __random_search__ and pass as parameters each the desired model, the __parameter_space_random__ defined for that model, define `scoring = f1`, `cv = 5` and `random_state = 99`.\n",
    "\n",
    "__`Step 43`__ Fit your instance to __X_data__ and __y_data__. <br>\n",
    "Call the attribute __best_params___ to check which is the best combination of parameters<br>\n",
    "Call the attribute __best_score___ to obtain the mean cross-validated score of the best_estimator.\n",
    "\n",
    "__`Step 44`__ Use these parameters as guidelines to apply Grid Search CV in the following step."
   ]
  },
  {
   "cell_type": "markdown",
   "id": "519f585b",
   "metadata": {},
   "source": [
    "<a class=\"anchor\" id=\"33rd-bullet\">\n",
    "\n",
    "### 4.2.8. GridSearch\n",
    "    \n",
    "</a>\n",
    "\n",
    "\n",
    "\n",
    "Another approach is using GridSearch that performs an exhaustive search over specified parameter values for an estimator. <br>\n",
    "It is used for hyperparameter tuning, which involves finding the best combination of hyperparameters for a machine learning model.\n",
    "\n",
    "To use GridSearchCV, you provide a parameter grid, which is a dictionary or a list of dictionaries containing the hyperparameters and their corresponding values to explore. The function then evaluates all possible combinations of hyperparameters using cross-validation. It trains and evaluates the model with each combination and returns the best set of hyperparameters that optimize a specified performance metric, such as accuracy or F1 score.\n",
    "\n",
    "GridSearchCV systematically explores the entire parameter grid, making it computationally expensive for large grids or complex models. However, it ensures that you find the optimal hyperparameters by considering all possible combinations. Once you have the best hyperparameters, you can use them to train a final model on the full dataset for making predictions.\n",
    "\n",
    "__`Step 45`__ Define a dictionary named as __parameter_space_grid__ for each one of the models and define the options to be considered during modelling.\n",
    "\n",
    "__`Step 46`__ Create an instance of GridSearchCV named as __grid_search__ and pass as parameters the respective model, the __parameter_space_grid__, define `scoring = f1` and `cv = 5`.\n",
    "\n",
    "__`Step 47`__ Fit your instance to __X_data__ and __y_data__. <br>\n",
    "Call the attribute __best_params___ to check which is the best combination of parameters<br>\n",
    "Call the attribute __best_score___ to obtain the mean cross-validated score of the best_estimator.\n",
    "\n",
    "__`Step 48`__ Create an instance of the model chosen for the each algorithm named as `final_model_`."
   ]
  },
  {
   "cell_type": "markdown",
   "id": "732b94f5",
   "metadata": {},
   "source": [
    "**NOTE: We applied this process to all of our models in attempt to reach an optimized set of hyperparameters**"
   ]
  },
  {
   "cell_type": "markdown",
   "id": "10feebbb",
   "metadata": {},
   "source": [
    "<a class=\"anchor\" id=\"38th-bullet\">\n",
    "\n",
    "### 4.2.9. Select the winner model\n",
    "    \n",
    "</a>\n",
    "\n",
    "<a class=\"anchor\" id=\"39th-bullet\">\n",
    "\n",
    "#### 4.2.9.1. COMPARE THE PERFORMANCE\n",
    "    \n",
    "</a>\n",
    "\n",
    "Let's compare our final models:\n",
    "\n",
    "__`Step 49`__ Compare the models using the function defined previoulsy `show_results`."
   ]
  },
  {
   "cell_type": "code",
   "execution_count": 30,
   "id": "44ef04d4",
   "metadata": {},
   "outputs": [],
   "source": [
    "def select_best_models(data, model):\n",
    "    skf = StratifiedKFold(n_splits = 5, random_state = 99, shuffle = True)\n",
    "    X = data.drop('y', axis = 1)\n",
    "    y = data['y'].copy()\n",
    "\n",
    "    #X = encode_data(X)\n",
    "\n",
    "    score_train, score_val = [],[]\n",
    "\n",
    "    # perform the cross-validation\n",
    "    for train_index, val_index in skf.split(X,y):\n",
    "        X_train, X_val = X.iloc[train_index], X.iloc[val_index]\n",
    "        y_train, y_val = y.iloc[train_index], y.iloc[val_index]\n",
    "\n",
    "        # Scale the data\n",
    "        #scaler = MinMaxScaler().fit(X_train)\n",
    "        #X_train = scaler.transform(X_train)\n",
    "        #X_val = scaler.transform(X_val)\n",
    "\n",
    "        # Apply model\n",
    "        model.fit(X_train, y_train)\n",
    "        predictions_train = model.predict(X_train)\n",
    "        predictions_val = model.predict(X_val)\n",
    "        score_train.append(f1_score(y_train, predictions_train))\n",
    "        score_val.append(f1_score(y_val, predictions_val))\n",
    "\n",
    "    avg_train = round(np.mean(score_train),3)\n",
    "    avg_val = round(np.mean(score_val),3)\n",
    "    std_train = round(np.std(score_train),2)\n",
    "    std_val = round(np.std(score_val),2)\n",
    "\n",
    "    return avg_train, std_train, avg_val, std_val\n",
    "\n",
    "def show_results(df, data, *args):\n",
    "    count = 0\n",
    "    # for each instance of model passed as argument\n",
    "    for arg in args:\n",
    "        avg_train, std_train, avg_val, std_val = select_best_models(data, arg)\n",
    "        # store the results in the right row\n",
    "        df.iloc[count] = str(avg_train) + '+/-' + str(std_train), str(avg_val) + '+/-' + str(std_val)\n",
    "        count+=1\n",
    "    return df"
   ]
  },
  {
   "cell_type": "code",
   "execution_count": 37,
   "id": "c9af2536",
   "metadata": {
    "colab": {
     "base_uri": "https://localhost:8080/",
     "height": 143
    },
    "id": "c9af2536",
    "outputId": "8798f36f-121c-4f03-fb9e-d58b2c59cde0"
   },
   "outputs": [
    {
     "name": "stdout",
     "output_type": "stream",
     "text": [
      "CPU times: total: 7min 47s\n",
      "Wall time: 9min 4s\n"
     ]
    },
    {
     "data": {
      "text/html": [
       "<div>\n",
       "<style scoped>\n",
       "    .dataframe tbody tr th:only-of-type {\n",
       "        vertical-align: middle;\n",
       "    }\n",
       "\n",
       "    .dataframe tbody tr th {\n",
       "        vertical-align: top;\n",
       "    }\n",
       "\n",
       "    .dataframe thead th {\n",
       "        text-align: right;\n",
       "    }\n",
       "</style>\n",
       "<table border=\"1\" class=\"dataframe\">\n",
       "  <thead>\n",
       "    <tr style=\"text-align: right;\">\n",
       "      <th></th>\n",
       "      <th>Train</th>\n",
       "      <th>Validation</th>\n",
       "    </tr>\n",
       "  </thead>\n",
       "  <tbody>\n",
       "    <tr>\n",
       "      <th>Best KNN</th>\n",
       "      <td>0.925+/-0.0</td>\n",
       "      <td>0.902+/-0.0</td>\n",
       "    </tr>\n",
       "    <tr>\n",
       "      <th>Best DT</th>\n",
       "      <td>0.88+/-0.0</td>\n",
       "      <td>0.872+/-0.01</td>\n",
       "    </tr>\n",
       "    <tr>\n",
       "      <th>Best NN</th>\n",
       "      <td>0.847+/-0.0</td>\n",
       "      <td>0.847+/-0.0</td>\n",
       "    </tr>\n",
       "    <tr>\n",
       "      <th>Best RF</th>\n",
       "      <td>0.969+/-0.0</td>\n",
       "      <td>0.935+/-0.0</td>\n",
       "    </tr>\n",
       "    <tr>\n",
       "      <th>Best GB</th>\n",
       "      <td>0.924+/-0.0</td>\n",
       "      <td>0.92+/-0.0</td>\n",
       "    </tr>\n",
       "  </tbody>\n",
       "</table>\n",
       "</div>"
      ],
      "text/plain": [
       "                Train    Validation\n",
       "Best KNN  0.925+/-0.0   0.902+/-0.0\n",
       "Best DT    0.88+/-0.0  0.872+/-0.01\n",
       "Best NN   0.847+/-0.0   0.847+/-0.0\n",
       "Best RF   0.969+/-0.0   0.935+/-0.0\n",
       "Best GB   0.924+/-0.0    0.92+/-0.0"
      ]
     },
     "execution_count": 37,
     "metadata": {},
     "output_type": "execute_result"
    }
   ],
   "source": [
    "%%time\n",
    "df_final_models = pd.DataFrame(columns = ['Train','Validation'], index = ['Best KNN','Best DT', 'Best NN', 'Best RF', 'Best GB'])#, 'Best SVC'])\n",
    "show_results(df_final_models, keep_data, final_model_knn, final_model_dt, final_model_nn, final_model_rf, final_model_gb)# final_model_svc)"
   ]
  },
  {
   "cell_type": "markdown",
   "id": "863b7332",
   "metadata": {
    "id": "863b7332"
   },
   "source": [
    "<a class=\"anchor\" id=\"40th-bullet\">\n",
    "\n",
    "#### __4.2.9.2. PLOT A ROC CURVE__\n",
    "    \n",
    "</a>\n",
    "\n",
    "__`Step 50`__ Now we are going to compare our models using a ROC CURVE. To plot a ROC Curve, we need to create just one single model, and not several as we have when we apply StratifiedKFold.\n",
    "\n",
    "Create a copy of `all_data` as `data` and define your independent variables as `X_data` and your target as `y_data`."
   ]
  },
  {
   "cell_type": "code",
   "execution_count": null,
   "id": "094b1f66",
   "metadata": {
    "id": "094b1f66"
   },
   "outputs": [],
   "source": [
    "#data = keep_data.copy()\n",
    "\n",
    "#data = pd.read_parquet(r'Datasets\\\\parquet\\\\bank_all_feature_selection.parquet')\n",
    "\n",
    "#X_data = data.iloc[:, :-1]\n",
    "#y_data = data.iloc[:, -1]"
   ]
  },
  {
   "cell_type": "markdown",
   "id": "d8f1b3f9",
   "metadata": {
    "id": "d8f1b3f9"
   },
   "source": [
    "__`Step 51`__ Apply the needed transformations by calling the `encode_data` function."
   ]
  },
  {
   "cell_type": "code",
   "execution_count": null,
   "id": "0db9a17f",
   "metadata": {
    "id": "0db9a17f"
   },
   "outputs": [],
   "source": [
    "#X_data = encode_data(X_data)"
   ]
  },
  {
   "cell_type": "markdown",
   "id": "f4433350",
   "metadata": {
    "id": "f4433350"
   },
   "source": [
    "__`Step 52`__ Split your dataset into train and validation using train_train_split, where `train_size = 0.8`, `random_state = 99` and `stratify = y_data`, and fit your three models in the training data."
   ]
  },
  {
   "cell_type": "code",
   "execution_count": 38,
   "id": "81706e94",
   "metadata": {
    "id": "81706e94"
   },
   "outputs": [],
   "source": [
    "X_train, X_val, y_train, y_val = train_test_split(X_data, y_data,\n",
    "                                                  train_size = 0.8,\n",
    "                                                  random_state = 99,\n",
    "                                                  stratify = y_data)\n",
    "\n",
    "#scaler = MinMaxScaler().fit(X_train)\n",
    "#X_train = scaler.transform(X_train)\n",
    "#X_val = scaler.transform(X_val)\n",
    "\n",
    "\n",
    "model_knn = final_model_knn.fit(X_train, y_train)\n",
    "model_dt = final_model_dt.fit(X_train, y_train)\n",
    "model_nn = final_model_nn.fit(X_train, y_train)\n",
    "model_rf = final_model_rf.fit(X_train, y_train)\n",
    "model_gb = final_model_gb.fit(X_train, y_train)\n",
    "#model_svc = final_model_svc.fit(X_train, y_train)"
   ]
  },
  {
   "cell_type": "markdown",
   "id": "5c3ebe99",
   "metadata": {
    "id": "5c3ebe99"
   },
   "source": [
    "__`Step 53`__ Use the `.predict_proba()` method of `modelknn` to obtain the probability estimates for the `X_val` and assign it to the object `prob_modelKNN`. Do the same for the other models, and assign it to `prob_modelDT` and `prob_modelNN`."
   ]
  },
  {
   "cell_type": "code",
   "execution_count": 39,
   "id": "8fad6264",
   "metadata": {
    "id": "8fad6264"
   },
   "outputs": [],
   "source": [
    "prob_modelKNN = model_knn.predict_proba(X_val)\n",
    "prob_modelDT =  model_dt.predict_proba(X_val)\n",
    "prob_modelNN =  model_nn.predict_proba(X_val)\n",
    "prob_modelRF = model_rf.predict_proba(X_val)\n",
    "prob_modelGB = model_gb.predict_proba(X_val)\n",
    "#prob_modelSVC = model_svc.predict_proba(X_val)"
   ]
  },
  {
   "cell_type": "markdown",
   "id": "fff8e2b0",
   "metadata": {
    "id": "fff8e2b0"
   },
   "source": [
    "__`Step 54`__ Call roc_curve() for the three different models. In this way, you should: <br>\n",
    "1) For the first roc curve, call the roc_curve metric and define the arguments `y_true` equal to `y_val` and `y_score` equal to `prob_modelKNN[:, 1]`. Assign the results to `fpr_modelKNN`, `tpr_modelKNN` and `thresholds_modelKNN`. <br>\n",
    "2) Repeat the same procedure to the remaining models, changing the names of the objects accordingly."
   ]
  },
  {
   "cell_type": "code",
   "execution_count": 40,
   "id": "ba9cc5d3",
   "metadata": {
    "id": "ba9cc5d3"
   },
   "outputs": [],
   "source": [
    "fpr_modelKNN, tpr_modelKNN, thresholds_modelKNN = roc_curve(y_true = y_val, y_score = prob_modelKNN[:,1])\n",
    "fpr_modelDT, tpr_modelDT, thresholds_modelDT = roc_curve(y_val, prob_modelDT[:,1])\n",
    "fpr_modelNN, tpr_modelNN, thresholds_modelNN = roc_curve(y_val, prob_modelNN[:,1])\n",
    "fpr_modelRF, tpr_modelRF, thresholds_modelRF = roc_curve(y_val, prob_modelRF[:,1])\n",
    "fpr_modelGB, tpr_modelGB, thresholds_modelGB = roc_curve(y_val, prob_modelGB[:,1])\n",
    "#fpr_modelSVC, tpr_modelSVC, thresholds_modelSVC = roc_curve(y_val, prob_modelSVC[:,1])"
   ]
  },
  {
   "cell_type": "markdown",
   "id": "80b57628",
   "metadata": {
    "id": "80b57628"
   },
   "source": [
    "__`Step 55`__ The purpose of this step is to plot the roc curve associated to each model. Do the following instructions in only one single cell, so the three roc curves appear in the same visualization. <br>\n",
    "1) Create a plot using the function `plt.plot()`, where the data to be represented is going to be the `fpr_modelKNN`, `tpr_modelKNN`, and `label=\"ROC Curve KNN\"` <br>\n",
    "2) Similarly to the previous step, plot now the values regarding `modelDT` <br>\n",
    "3) Similarly to the previous step, plot now the values regarding `modelNN` <br>\n",
    "4) call the function plt.legend()\n",
    "5) Call the function plt.show()"
   ]
  },
  {
   "cell_type": "code",
   "execution_count": 41,
   "id": "8282be33",
   "metadata": {
    "colab": {
     "base_uri": "https://localhost:8080/",
     "height": 449
    },
    "id": "8282be33",
    "outputId": "638a8e44-8e6d-4849-ca58-d2d6d26ba524"
   },
   "outputs": [
    {
     "data": {
      "image/png": "[encoded data removed]",
      "text/plain": [
       "<Figure size 640x480 with 1 Axes>"
      ]
     },
     "metadata": {},
     "output_type": "display_data"
    }
   ],
   "source": [
    "plt.plot(fpr_modelKNN, tpr_modelKNN,label=\"ROC Curve KNN\")\n",
    "plt.plot(fpr_modelDT, tpr_modelDT, label=\"ROC Curve DT\")\n",
    "plt.plot(fpr_modelNN, tpr_modelNN, label=\"ROC Curve NN\")\n",
    "plt.plot(fpr_modelRF, tpr_modelRF, label=\"ROC Curve RF\")\n",
    "plt.plot(fpr_modelGB, tpr_modelGB, label=\"ROC Curve GB\")\n",
    "#plt.plot(fpr_modelSVC, tpr_modelSVC, label=\"ROC Curve SVC\")\n",
    "\n",
    "plt.xlabel('FPR')\n",
    "plt.ylabel('TPR')\n",
    "plt.legend()\n",
    "plt.show()"
   ]
  },
  {
   "cell_type": "code",
   "execution_count": 42,
   "id": "5kr1U7YiGiJS",
   "metadata": {
    "colab": {
     "base_uri": "https://localhost:8080/"
    },
    "id": "5kr1U7YiGiJS",
    "outputId": "eb2897ab-5142-44cc-fcf1-aa4b71556df6"
   },
   "outputs": [
    {
     "name": "stdout",
     "output_type": "stream",
     "text": [
      "KNN: 0.9515422127492659\n",
      "DT: 0.9379041351235602\n",
      "NN: 0.9160917970084009\n",
      "RF: 0.9846454637254651\n",
      "GB: 0.9780752196650032\n"
     ]
    }
   ],
   "source": [
    "# Alternatively, you can use roc_auc_score\n",
    "roc_auc_modelKNN = roc_auc_score(y_val, prob_modelKNN[:, 1])\n",
    "roc_auc_modelDT = roc_auc_score(y_val, prob_modelDT[:, 1])\n",
    "roc_auc_modelNN = roc_auc_score(y_val, prob_modelNN[:, 1])\n",
    "roc_auc_modelRF = roc_auc_score(y_val, prob_modelRF[:, 1])\n",
    "roc_auc_modelGB = roc_auc_score(y_val, prob_modelGB[:, 1])\n",
    "#roc_auc_modelSVC = roc_auc_score(y_val, prob_modelSVC[:, 1])\n",
    "\n",
    "print('KNN:', roc_auc_modelKNN)\n",
    "print('DT:',roc_auc_modelDT)\n",
    "print('NN:',roc_auc_modelNN)\n",
    "print('RF:',roc_auc_modelRF)\n",
    "print('GB:',roc_auc_modelGB)\n",
    "#print('SVC:',roc_auc_modelSVC)"
   ]
  },
  {
   "cell_type": "markdown",
   "id": "9f50748b",
   "metadata": {
    "id": "9f50748b"
   },
   "source": [
    "__CONCLUSION__ <br>\n",
    "- While considering the roc curve and the AUC, it seems that the Gradient Boosting is the one that achieves a better result. A higher AUC value generally indicates a better performing model. It means the model is better at distinguishing between the positive and negative classes across different threshold levels."
   ]
  },
  {
   "cell_type": "markdown",
   "id": "00505289",
   "metadata": {
    "id": "00505289"
   },
   "source": [
    "<a class=\"anchor\" id=\"41st-bullet\">\n",
    "\n",
    "#### 4.2.9.3. CHANGE THE THRESHOLD\n",
    "    \n",
    "</a>"
   ]
  },
  {
   "cell_type": "markdown",
   "id": "452405b7",
   "metadata": {
    "id": "452405b7"
   },
   "source": [
    "At this point, you already know which are the best hyperparameters of your best model. <br>\n",
    "The last thing you can try out to improve the performance of your model is to change the threshold of what you consider a positive prediction vs a negative prediction. <br>\n",
    "By default, that threshold is 0.5, i.e., observations where the probability of being 1 is equal or lower to 0.5 are considered positive, otherwise negative.\n",
    "\n",
    "Like we did to plot the ROC Curve, in this case we are just going to use one partition, provided by the train_train_split on `Step 31.`\n"
   ]
  },
  {
   "cell_type": "markdown",
   "id": "c3c8877a",
   "metadata": {
    "id": "c3c8877a"
   },
   "source": [
    "__`Step 56`__ Fit your final model to the training data (we are going to consider the GB since it was the one that seems to lead to better results by changing the threshold)."
   ]
  },
  {
   "cell_type": "code",
   "execution_count": 43,
   "id": "8a5660eb",
   "metadata": {
    "id": "8a5660eb"
   },
   "outputs": [],
   "source": [
    "final_model = final_model_rf.fit(X_train, y_train)"
   ]
  },
  {
   "cell_type": "markdown",
   "id": "f429101c",
   "metadata": {
    "id": "f429101c"
   },
   "source": [
    "__`Step 57`__ Calculate the probabilities associated with each observation in X_val being of class 0 or 1."
   ]
  },
  {
   "cell_type": "code",
   "execution_count": 44,
   "id": "7b4bb472",
   "metadata": {
    "colab": {
     "base_uri": "https://localhost:8080/"
    },
    "id": "7b4bb472",
    "outputId": "cb78b47d-1212-45a2-eacc-cab8634e34d9"
   },
   "outputs": [
    {
     "data": {
      "text/plain": [
       "array([[7.59642401e-02, 9.24035760e-01],\n",
       "       [9.98751466e-01, 1.24853422e-03],\n",
       "       [6.77048100e-01, 3.22951900e-01],\n",
       "       ...,\n",
       "       [4.41666667e-02, 9.55833333e-01],\n",
       "       [3.00300300e-04, 9.99699700e-01],\n",
       "       [5.55555556e-03, 9.94444444e-01]])"
      ]
     },
     "execution_count": 44,
     "metadata": {},
     "output_type": "execute_result"
    }
   ],
   "source": [
    "predict_proba = final_model.predict_proba(X_val)\n",
    "predict_proba"
   ]
  },
  {
   "cell_type": "markdown",
   "id": "35d072b5",
   "metadata": {
    "id": "35d072b5"
   },
   "source": [
    "__`Step 58`__ The purpose of this step is to plot the precision recall curve associated to the best model. <br>\n",
    "1) Import precision_recall_curve from sklearn.metrics<br>\n",
    "2) Get the precision, the recall and the thresholds from your precision recall curve<br>\n",
    "3) Check what is the threshold for the best f1 score<br>\n",
    "4) Plot the precision recall curve and the best threshold.<br>"
   ]
  },
  {
   "cell_type": "code",
   "execution_count": 45,
   "id": "669476c5",
   "metadata": {
    "colab": {
     "base_uri": "https://localhost:8080/",
     "height": 467
    },
    "id": "669476c5",
    "outputId": "01bfc8e6-c8ae-4d82-8326-a515055caece"
   },
   "outputs": [
    {
     "name": "stdout",
     "output_type": "stream",
     "text": [
      "Best Threshold=0.503457, F-Score=0.937\n"
     ]
    },
    {
     "data": {
      "image/png": "[encoded data removed]",
      "text/plain": [
       "<Figure size 640x480 with 1 Axes>"
      ]
     },
     "metadata": {},
     "output_type": "display_data"
    }
   ],
   "source": [
    "precision, recall, thresholds = precision_recall_curve(y_val, predict_proba[:,1])\n",
    "\n",
    "# Compute F1 score, avoid division by zero\n",
    "fscore = np.where((precision + recall) > 0, (2 * precision * recall) / (precision + recall), 0)\n",
    "# locate the index of the largest f score\n",
    "ix = np.argmax(fscore)\n",
    "print('Best Threshold=%f, F-Score=%.3f' % (thresholds[ix], fscore[ix]))\n",
    "\n",
    "plt.plot(recall, precision, marker='.', label='GB')\n",
    "plt.scatter(recall[ix], precision[ix], marker='o', color='black', label='Best')\n",
    "plt.xlabel('Recall')\n",
    "plt.ylabel('Precision')\n",
    "plt.legend()\n",
    "plt.show()"
   ]
  },
  {
   "cell_type": "code",
   "execution_count": 55,
   "id": "e3a65341",
   "metadata": {},
   "outputs": [
    {
     "data": {
      "text/plain": [
       "<sklearn.metrics._plot.confusion_matrix.ConfusionMatrixDisplay at 0x1dfec917bc0>"
      ]
     },
     "execution_count": 55,
     "metadata": {},
     "output_type": "execute_result"
    },
    {
     "data": {
      "image/png": "[encoded data removed]",
      "text/plain": [
       "<Figure size 640x480 with 2 Axes>"
      ]
     },
     "metadata": {},
     "output_type": "display_data"
    }
   ],
   "source": [
    "y_pred = final_model_rf.predict(X_val)\n",
    "\n",
    "\n",
    "from sklearn.metrics import ConfusionMatrixDisplay, confusion_matrix\n",
    "import matplotlib.pyplot as plt\n",
    "\n",
    "cm = confusion_matrix(y_val, y_pred)\n",
    "disp = ConfusionMatrixDisplay(confusion_matrix=cm, display_labels=['Success','Failure'])\n",
    "\n",
    "disp.plot(cmap=plt.cm.Greens)\n"
   ]
  },
  {
   "cell_type": "code",
   "execution_count": null,
   "id": "1b66f996",
   "metadata": {},
   "outputs": [
    {
     "data": {
      "text/plain": [
       "<sklearn.metrics._plot.confusion_matrix.ConfusionMatrixDisplay at 0x1df800df440>"
      ]
     },
     "execution_count": 53,
     "metadata": {},
     "output_type": "execute_result"
    },
    {
     "data": {
      "image/png": "[encoded data removed]",
      "text/plain": [
       "<Figure size 640x480 with 2 Axes>"
      ]
     },
     "metadata": {},
     "output_type": "display_data"
    }
   ],
   "source": [
    "y_pred = final_model_rf.predict(X_test)\n",
    "\n",
    "\n",
    "from sklearn.metrics import ConfusionMatrixDisplay, confusion_matrix\n",
    "import matplotlib.pyplot as plt\n",
    "\n",
    "cm = confusion_matrix(y_test, y_pred)\n",
    "disp = ConfusionMatrixDisplay(confusion_matrix=cm, display_labels=['True','False'])\n",
    "\n",
    "disp.plot(cmap=plt.cm.Greens)\n"
   ]
  },
  {
   "cell_type": "markdown",
   "id": "0c7b47ce",
   "metadata": {
    "id": "0c7b47ce"
   },
   "source": [
    "__CONCLUSION__ <br>\n",
    "- By changing the threshold to 0.587870, we are able to improve the f1-score of our final model."
   ]
  },
  {
   "cell_type": "markdown",
   "id": "05381828",
   "metadata": {
    "id": "05381828"
   },
   "source": [
    "<a class=\"anchor\" id=\"42nd-bullet\">\n",
    "\n",
    "# 5. Deploy\n",
    "\n",
    "</a>\n",
    "\n",
    "\n",
    "\n",
    "You used the previous steps of modelling and assessment to determine what would be best strategies when it comes to preprocessing, scaling, feature selection, algorithm and hyper-parameters you could find.\n",
    "\n",
    "**By this stage, all of those choices were already made**. For that reason, a split between training and validation is no longer necessary. **A good practice** would be to take the initial data and train a final model with all of the labeled data that you have available."
   ]
  },
  {
   "cell_type": "code",
   "execution_count": null,
   "id": "2bd53841",
   "metadata": {
    "id": "2bd53841"
   },
   "outputs": [],
   "source": [
    "#train = keep_data.copy()\n",
    "\n",
    "#X2_train = train.drop(['y'], axis = 1)\n",
    "#y2_train = train['y']"
   ]
  },
  {
   "cell_type": "markdown",
   "id": "81e21a2d",
   "metadata": {
    "id": "81e21a2d"
   },
   "source": [
    "**Everything is figured by this stage**, so, on a first level all you need to do is replicate the exact preprocessing, scaling and feature selection decisions you made before.<br>\n",
    "When it comes to the final model, all you have to do is creeate a new instance of your best algorithm with the best parameters that you uncovered (no need to try all algorithms and hyper-parameters again)."
   ]
  },
  {
   "cell_type": "markdown",
   "id": "7a2aa065",
   "metadata": {
    "id": "7a2aa065"
   },
   "source": [
    "<div class=\"alert alert-block alert-success\">\n",
    "\n",
    "<a class=\"anchor\" id=\"43rd-bullet\">\n",
    "\n",
    "## 5.1. Import your train data and apply transformations\n",
    "    \n",
    "</a>\n",
    "    \n",
    "</div>\n",
    "\n",
    "__`Step 59`__ Remember, the train data does not have the `outcome` variable."
   ]
  },
  {
   "cell_type": "code",
   "execution_count": 80,
   "id": "4d3989d7",
   "metadata": {},
   "outputs": [],
   "source": [
    "def process_bank_data(bank):\n",
    "    columns_to_replace = ['y', 'loan', 'housing', 'default']\n",
    "    for column in columns_to_replace:\n",
    "        bank[column] = bank[column].replace({'yes': 1, 'no': 0})\n",
    "\n",
    "    columns_to_encode = ['education', 'job', 'contact', 'month', 'poutcome', 'marital', 'Week_Day']\n",
    "    for column in columns_to_encode:\n",
    "        bank = pd.get_dummies(bank, columns=[column], drop_first=False)\n",
    "\n",
    "    columns_to_drop = [col for col in bank.columns if '_unknown' in col]\n",
    "    bank = bank.drop(columns=columns_to_drop)\n",
    "\n",
    "    bank = bank[['Week_Day_Fri', 'Week_Day_Sat', 'Week_Day_Thu', 'campaign', 'contact_cellular',\n",
    "    'day', 'duration', 'education_secondary', 'education_tertiary', 'housing',\n",
    "    'job_blue-collar', 'loan', 'marital_single', 'month_apr', 'month_aug',\n",
    "    'month_jul', 'month_mar', 'month_may', 'month_nov', 'month_oct',\n",
    "    'poutcome_success', 'previous',\n",
    "    \n",
    "    'age','Week_Day_Wed',   \n",
    "    \n",
    "    'y']].copy()\n",
    "    \n",
    "    target = bank['y']\n",
    "    \n",
    "    bank = bank.drop(['y'], axis=1)\n",
    "\n",
    "    return bank, target\n"
   ]
  },
  {
   "cell_type": "code",
   "execution_count": null,
   "id": "73ad9007",
   "metadata": {},
   "outputs": [
    {
     "data": {
      "text/plain": [
       "0       0\n",
       "1       0\n",
       "2       0\n",
       "3       0\n",
       "4       0\n",
       "       ..\n",
       "4516    0\n",
       "4517    0\n",
       "4518    0\n",
       "4519    0\n",
       "4520    0\n",
       "Name: y, Length: 4416, dtype: int64"
      ]
     },
     "execution_count": 82,
     "metadata": {},
     "output_type": "execute_result"
    }
   ],
   "source": [
    "test = pd.read_parquet(r\"Datasets\\parquet\\bank.parquet\")\n",
    "test, test_target = process_bank_data(test)\n",
    "\n",
    "# test = test[['Week_Day_Fri', 'Week_Day_Sat', 'Week_Day_Thu', 'campaign', 'contact_cellular',\n",
    "#     'day', 'duration', 'education_secondary', 'education_tertiary', 'housing',\n",
    "#     'job_blue-collar', 'loan', 'marital_single', 'month_apr', 'month_aug',\n",
    "#     'month_jul', 'month_mar', 'month_may', 'month_nov', 'month_oct',\n",
    "#     'poutcome_success', 'previous',\n",
    "    \n",
    "#     'age','Week_Day_Wed',   \n",
    "    \n",
    "#     'y']].copy()\n",
    "\n",
    "#target_test = test['y']\n",
    "#test = test.drop(['y'], axis=1)\n",
    "#test_target"
   ]
  },
  {
   "cell_type": "markdown",
   "id": "3991627c",
   "metadata": {
    "id": "3991627c"
   },
   "source": [
    "__`Step 60`__ Apply all the needed transformations in your training data and your train data. All the steps on preprocessing that you did on train should also be applied now on train, exactly on the same way (with the exception of rows removal)."
   ]
  },
  {
   "cell_type": "code",
   "execution_count": 83,
   "id": "0c4e8f52",
   "metadata": {
    "id": "0c4e8f52"
   },
   "outputs": [],
   "source": [
    "#train = encode_data(X2_train)\n",
    "#test = encode_data(test)\n",
    "\n",
    "scaler = MinMaxScaler().fit(X_train)\n",
    "#train = pd.DataFrame(scaler.transform(train), columns = train.columns)\n",
    "test = pd.DataFrame(scaler.transform(test), columns = test.columns, index = test.index)"
   ]
  },
  {
   "cell_type": "code",
   "execution_count": 84,
   "id": "5df1764f",
   "metadata": {},
   "outputs": [],
   "source": [
    "final_model = final_model_gb.fit(test, test_target)"
   ]
  },
  {
   "cell_type": "markdown",
   "id": "939879dd",
   "metadata": {
    "id": "939879dd"
   },
   "source": [
    "__`Step 61`__ Train your final model in the training data."
   ]
  },
  {
   "cell_type": "markdown",
   "id": "29d07b44",
   "metadata": {
    "id": "29d07b44"
   },
   "source": [
    "<div class=\"alert alert-block alert-success\">\n",
    "\n",
    "<a class=\"anchor\" id=\"44th-bullet\">\n",
    "\n",
    "## 5.2. Obtain Predictions on the train data from your final model\n",
    "    \n",
    "</a>\n",
    "    \n",
    "</div>"
   ]
  },
  {
   "cell_type": "markdown",
   "id": "de773822",
   "metadata": {
    "id": "de773822"
   },
   "source": [
    "__`Step 62`__ Obtain the predictions of the probabilities of your final model in the train data. by calling the method `predict_proba()`."
   ]
  },
  {
   "cell_type": "code",
   "execution_count": 85,
   "id": "9b912c9c",
   "metadata": {
    "colab": {
     "base_uri": "https://localhost:8080/"
    },
    "id": "9b912c9c",
    "outputId": "1ebdff10-f475-47af-c713-09748702139f"
   },
   "outputs": [
    {
     "data": {
      "text/plain": [
       "array([0, 0, 0, ..., 0, 0, 0])"
      ]
     },
     "execution_count": 85,
     "metadata": {},
     "output_type": "execute_result"
    }
   ],
   "source": [
    "final_model.predict(test) # the method predict() will predict the classes of your target when the threshold = 0.5"
   ]
  },
  {
   "cell_type": "code",
   "execution_count": 86,
   "id": "19a3096d",
   "metadata": {
    "colab": {
     "base_uri": "https://localhost:8080/"
    },
    "id": "19a3096d",
    "outputId": "2ed78568-763b-4603-a1c2-155de39f9641"
   },
   "outputs": [
    {
     "data": {
      "text/plain": [
       "array([[0.88728889, 0.11271111],\n",
       "       [0.93521144, 0.06478856],\n",
       "       [0.91535903, 0.08464097],\n",
       "       ...,\n",
       "       [0.98088775, 0.01911225],\n",
       "       [0.94408323, 0.05591677],\n",
       "       [0.82954641, 0.17045359]])"
      ]
     },
     "execution_count": 86,
     "metadata": {},
     "output_type": "execute_result"
    }
   ],
   "source": [
    "predict_proba_test = final_model.predict_proba(test)\n",
    "predict_proba_test"
   ]
  },
  {
   "cell_type": "markdown",
   "id": "f4917b45",
   "metadata": {
    "id": "f4917b45"
   },
   "source": [
    "__`Step 63`__ Define your final predictions, by changing the threshold of what is accepted as 1 and as 0."
   ]
  },
  {
   "cell_type": "code",
   "execution_count": 87,
   "id": "cf0905ed",
   "metadata": {
    "colab": {
     "base_uri": "https://localhost:8080/"
    },
    "id": "cf0905ed",
    "outputId": "164a3f0d-13c1-4565-a068-b6ff9f00a9af",
    "scrolled": true
   },
   "outputs": [
    {
     "data": {
      "text/plain": [
       "Counter({0: 4136, 1: 280})"
      ]
     },
     "execution_count": 87,
     "metadata": {},
     "output_type": "execute_result"
    }
   ],
   "source": [
    "final_pred = []\n",
    "from collections import Counter\n",
    "\n",
    "for value in predict_proba_test[:,1]:\n",
    "    if (value>=0.503457):\n",
    "        final_pred.append(1)\n",
    "    else:\n",
    "        final_pred.append(0)\n",
    "\n",
    "Counter(final_pred)"
   ]
  },
  {
   "cell_type": "code",
   "execution_count": 89,
   "id": "acffd5b2",
   "metadata": {},
   "outputs": [],
   "source": [
    "X_train.to_parquet(r'Datasets\\parquet\\bank_trained.parquet')"
   ]
  },
  {
   "cell_type": "markdown",
   "id": "4effcd3a",
   "metadata": {
    "id": "4effcd3a"
   },
   "source": [
    "<div class=\"alert alert-block alert-success\">\n",
    "\n",
    "<a class=\"anchor\" id=\"45th-bullet\">\n",
    "\n",
    "## 5.3. Create a Dataframe containing the index of each row and its intended prediction and export it to a csv file\n",
    "    \n",
    "</a>\n",
    "    \n",
    "</div>"
   ]
  },
  {
   "cell_type": "markdown",
   "id": "81623199",
   "metadata": {
    "id": "81623199"
   },
   "source": [
    "__`Step 64`__ Create a new DataFrame, and add as column `Custid` the values of the `Custid` for each customer in the train data set, and a column named `y` where you will store the preditions of your final model in the train data. Save those results in a .csv file."
   ]
  },
  {
   "cell_type": "code",
   "execution_count": 113,
   "id": "bd0983e2",
   "metadata": {
    "colab": {
     "base_uri": "https://localhost:8080/",
     "height": 676
    },
    "id": "bd0983e2",
    "outputId": "7d65cfc6-eb37-44be-f4a4-42824869714f"
   },
   "outputs": [
    {
     "data": {
      "text/html": [
       "<div>\n",
       "<style scoped>\n",
       "    .dataframe tbody tr th:only-of-type {\n",
       "        vertical-align: middle;\n",
       "    }\n",
       "\n",
       "    .dataframe tbody tr th {\n",
       "        vertical-align: top;\n",
       "    }\n",
       "\n",
       "    .dataframe thead th {\n",
       "        text-align: right;\n",
       "    }\n",
       "</style>\n",
       "<table border=\"1\" class=\"dataframe\">\n",
       "  <thead>\n",
       "    <tr style=\"text-align: right;\">\n",
       "      <th></th>\n",
       "      <th>ID</th>\n",
       "      <th>y</th>\n",
       "    </tr>\n",
       "  </thead>\n",
       "  <tbody>\n",
       "    <tr>\n",
       "      <th>0</th>\n",
       "      <td>0</td>\n",
       "      <td>0</td>\n",
       "    </tr>\n",
       "    <tr>\n",
       "      <th>1</th>\n",
       "      <td>1</td>\n",
       "      <td>0</td>\n",
       "    </tr>\n",
       "    <tr>\n",
       "      <th>2</th>\n",
       "      <td>2</td>\n",
       "      <td>0</td>\n",
       "    </tr>\n",
       "    <tr>\n",
       "      <th>3</th>\n",
       "      <td>3</td>\n",
       "      <td>0</td>\n",
       "    </tr>\n",
       "    <tr>\n",
       "      <th>4</th>\n",
       "      <td>4</td>\n",
       "      <td>0</td>\n",
       "    </tr>\n",
       "    <tr>\n",
       "      <th>5</th>\n",
       "      <td>5</td>\n",
       "      <td>0</td>\n",
       "    </tr>\n",
       "    <tr>\n",
       "      <th>6</th>\n",
       "      <td>6</td>\n",
       "      <td>0</td>\n",
       "    </tr>\n",
       "    <tr>\n",
       "      <th>7</th>\n",
       "      <td>7</td>\n",
       "      <td>0</td>\n",
       "    </tr>\n",
       "    <tr>\n",
       "      <th>8</th>\n",
       "      <td>8</td>\n",
       "      <td>0</td>\n",
       "    </tr>\n",
       "    <tr>\n",
       "      <th>9</th>\n",
       "      <td>9</td>\n",
       "      <td>0</td>\n",
       "    </tr>\n",
       "    <tr>\n",
       "      <th>10</th>\n",
       "      <td>10</td>\n",
       "      <td>0</td>\n",
       "    </tr>\n",
       "    <tr>\n",
       "      <th>11</th>\n",
       "      <td>11</td>\n",
       "      <td>0</td>\n",
       "    </tr>\n",
       "    <tr>\n",
       "      <th>12</th>\n",
       "      <td>12</td>\n",
       "      <td>0</td>\n",
       "    </tr>\n",
       "    <tr>\n",
       "      <th>13</th>\n",
       "      <td>13</td>\n",
       "      <td>1</td>\n",
       "    </tr>\n",
       "    <tr>\n",
       "      <th>14</th>\n",
       "      <td>14</td>\n",
       "      <td>0</td>\n",
       "    </tr>\n",
       "    <tr>\n",
       "      <th>15</th>\n",
       "      <td>15</td>\n",
       "      <td>0</td>\n",
       "    </tr>\n",
       "    <tr>\n",
       "      <th>16</th>\n",
       "      <td>16</td>\n",
       "      <td>0</td>\n",
       "    </tr>\n",
       "    <tr>\n",
       "      <th>17</th>\n",
       "      <td>17</td>\n",
       "      <td>0</td>\n",
       "    </tr>\n",
       "    <tr>\n",
       "      <th>18</th>\n",
       "      <td>18</td>\n",
       "      <td>0</td>\n",
       "    </tr>\n",
       "    <tr>\n",
       "      <th>19</th>\n",
       "      <td>19</td>\n",
       "      <td>0</td>\n",
       "    </tr>\n",
       "  </tbody>\n",
       "</table>\n",
       "</div>"
      ],
      "text/plain": [
       "    ID  y\n",
       "0    0  0\n",
       "1    1  0\n",
       "2    2  0\n",
       "3    3  0\n",
       "4    4  0\n",
       "5    5  0\n",
       "6    6  0\n",
       "7    7  0\n",
       "8    8  0\n",
       "9    9  0\n",
       "10  10  0\n",
       "11  11  0\n",
       "12  12  0\n",
       "13  13  1\n",
       "14  14  0\n",
       "15  15  0\n",
       "16  16  0\n",
       "17  17  0\n",
       "18  18  0\n",
       "19  19  0"
      ]
     },
     "execution_count": 113,
     "metadata": {},
     "output_type": "execute_result"
    }
   ],
   "source": [
    "answer = pd.DataFrame()\n",
    "answer['ID'] = test.index\n",
    "answer['y'] = final_pred\n",
    "answer.head(20)"
   ]
  },
  {
   "cell_type": "code",
   "execution_count": 114,
   "id": "1edd55ed",
   "metadata": {},
   "outputs": [
    {
     "name": "stdout",
     "output_type": "stream",
     "text": [
      "Accuracy of the predictions: 92.30%\n"
     ]
    }
   ],
   "source": [
    "answer = answer.reset_index(drop=True)\n",
    "target_test = target_test.reset_index(drop=True)\n",
    "\n",
    "accuracy_percentage = ((answer['y'] == target_test).mean()) * 100\n",
    "print(f\"Accuracy of the predictions: {accuracy_percentage:.2f}%\")\n"
   ]
  }
 ],
 "metadata": {
  "kernelspec": {
   "display_name": "Python 3",
   "language": "python",
   "name": "python3"
  },
  "language_info": {
   "codemirror_mode": {
    "name": "ipython",
    "version": 3
   },
   "file_extension": ".py",
   "mimetype": "text/x-python",
   "name": "python",
   "nbconvert_exporter": "python",
   "pygments_lexer": "ipython3",
   "version": "3.12.6"
  }
 },
 "nbformat": 4,
 "nbformat_minor": 5
}
